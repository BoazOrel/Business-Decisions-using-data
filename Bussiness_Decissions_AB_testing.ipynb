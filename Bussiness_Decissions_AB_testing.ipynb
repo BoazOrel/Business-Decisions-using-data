{
 "cells": [
  {
   "cell_type": "markdown",
   "id": "7def1596",
   "metadata": {},
   "source": [
    "# Project description\n",
    "You are an analyst at a big online store. Together with the marketing department, you've compiled a list of hypotheses that may help boost revenue.\n",
    "\n",
    "You need to prioritize these hypotheses, launch an A/B test, and analyze the results.\n"
   ]
  },
  {
   "cell_type": "code",
   "execution_count": 1,
   "id": "343cf626",
   "metadata": {},
   "outputs": [],
   "source": [
    "# Loading all the libraries\n",
    "import pandas as pd\n",
    "import scipy.stats as stats\n",
    "import matplotlib.pyplot as plt\n",
    "import datetime as dt\n",
    "import numpy as np"
   ]
  },
  {
   "cell_type": "code",
   "execution_count": 2,
   "id": "06b294b0",
   "metadata": {},
   "outputs": [],
   "source": [
    "# Loadind data\n",
    "# Changing 'date' columns type to 'datetime'\n",
    "visits = pd.read_csv('visits_us.csv',parse_dates=['date'])\n",
    "orders = pd.read_csv('orders_us.csv', parse_dates=['date'])\n",
    "hypotheses = pd.read_csv('hypotheses_us.csv',sep=';')"
   ]
  },
  {
   "cell_type": "markdown",
   "id": "3e81b483",
   "metadata": {},
   "source": [
    "# Data preprocesing"
   ]
  },
  {
   "cell_type": "markdown",
   "id": "e317e5f2",
   "metadata": {},
   "source": [
    "## orders"
   ]
  },
  {
   "cell_type": "code",
   "execution_count": 3,
   "id": "0f0aa1c6",
   "metadata": {},
   "outputs": [
    {
     "data": {
      "text/html": [
       "<div>\n",
       "<style scoped>\n",
       "    .dataframe tbody tr th:only-of-type {\n",
       "        vertical-align: middle;\n",
       "    }\n",
       "\n",
       "    .dataframe tbody tr th {\n",
       "        vertical-align: top;\n",
       "    }\n",
       "\n",
       "    .dataframe thead th {\n",
       "        text-align: right;\n",
       "    }\n",
       "</style>\n",
       "<table border=\"1\" class=\"dataframe\">\n",
       "  <thead>\n",
       "    <tr style=\"text-align: right;\">\n",
       "      <th></th>\n",
       "      <th>transactionId</th>\n",
       "      <th>visitorId</th>\n",
       "      <th>date</th>\n",
       "      <th>revenue</th>\n",
       "      <th>group</th>\n",
       "    </tr>\n",
       "  </thead>\n",
       "  <tbody>\n",
       "    <tr>\n",
       "      <th>0</th>\n",
       "      <td>3667963787</td>\n",
       "      <td>3312258926</td>\n",
       "      <td>2019-08-15</td>\n",
       "      <td>30.4</td>\n",
       "      <td>B</td>\n",
       "    </tr>\n",
       "    <tr>\n",
       "      <th>1</th>\n",
       "      <td>2804400009</td>\n",
       "      <td>3642806036</td>\n",
       "      <td>2019-08-15</td>\n",
       "      <td>15.2</td>\n",
       "      <td>B</td>\n",
       "    </tr>\n",
       "    <tr>\n",
       "      <th>2</th>\n",
       "      <td>2961555356</td>\n",
       "      <td>4069496402</td>\n",
       "      <td>2019-08-15</td>\n",
       "      <td>10.2</td>\n",
       "      <td>A</td>\n",
       "    </tr>\n",
       "    <tr>\n",
       "      <th>3</th>\n",
       "      <td>3797467345</td>\n",
       "      <td>1196621759</td>\n",
       "      <td>2019-08-15</td>\n",
       "      <td>155.1</td>\n",
       "      <td>B</td>\n",
       "    </tr>\n",
       "    <tr>\n",
       "      <th>4</th>\n",
       "      <td>2282983706</td>\n",
       "      <td>2322279887</td>\n",
       "      <td>2019-08-15</td>\n",
       "      <td>40.5</td>\n",
       "      <td>B</td>\n",
       "    </tr>\n",
       "  </tbody>\n",
       "</table>\n",
       "</div>"
      ],
      "text/plain": [
       "   transactionId   visitorId       date  revenue group\n",
       "0     3667963787  3312258926 2019-08-15     30.4     B\n",
       "1     2804400009  3642806036 2019-08-15     15.2     B\n",
       "2     2961555356  4069496402 2019-08-15     10.2     A\n",
       "3     3797467345  1196621759 2019-08-15    155.1     B\n",
       "4     2282983706  2322279887 2019-08-15     40.5     B"
      ]
     },
     "execution_count": 3,
     "metadata": {},
     "output_type": "execute_result"
    }
   ],
   "source": [
    "#data sample\n",
    "orders.head()"
   ]
  },
  {
   "cell_type": "code",
   "execution_count": 4,
   "id": "03741d2c",
   "metadata": {},
   "outputs": [
    {
     "name": "stdout",
     "output_type": "stream",
     "text": [
      "<class 'pandas.core.frame.DataFrame'>\n",
      "RangeIndex: 1197 entries, 0 to 1196\n",
      "Data columns (total 5 columns):\n",
      " #   Column         Non-Null Count  Dtype         \n",
      "---  ------         --------------  -----         \n",
      " 0   transactionId  1197 non-null   int64         \n",
      " 1   visitorId      1197 non-null   int64         \n",
      " 2   date           1197 non-null   datetime64[ns]\n",
      " 3   revenue        1197 non-null   float64       \n",
      " 4   group          1197 non-null   object        \n",
      "dtypes: datetime64[ns](1), float64(1), int64(2), object(1)\n",
      "memory usage: 46.9+ KB\n"
     ]
    }
   ],
   "source": [
    "#general info\n",
    "orders.info()"
   ]
  },
  {
   "cell_type": "code",
   "execution_count": 5,
   "id": "ed84aa54",
   "metadata": {},
   "outputs": [
    {
     "data": {
      "text/plain": [
       "1031"
      ]
     },
     "execution_count": 5,
     "metadata": {},
     "output_type": "execute_result"
    }
   ],
   "source": [
    "#How many users?\n",
    "orders['visitorId'].nunique()"
   ]
  },
  {
   "cell_type": "code",
   "execution_count": 6,
   "id": "829bc69f",
   "metadata": {},
   "outputs": [
    {
     "data": {
      "text/html": [
       "<div>\n",
       "<style scoped>\n",
       "    .dataframe tbody tr th:only-of-type {\n",
       "        vertical-align: middle;\n",
       "    }\n",
       "\n",
       "    .dataframe tbody tr th {\n",
       "        vertical-align: top;\n",
       "    }\n",
       "\n",
       "    .dataframe thead th {\n",
       "        text-align: right;\n",
       "    }\n",
       "</style>\n",
       "<table border=\"1\" class=\"dataframe\">\n",
       "  <thead>\n",
       "    <tr style=\"text-align: right;\">\n",
       "      <th></th>\n",
       "      <th>group</th>\n",
       "      <th>visitorId</th>\n",
       "    </tr>\n",
       "  </thead>\n",
       "  <tbody>\n",
       "    <tr>\n",
       "      <th>0</th>\n",
       "      <td>A</td>\n",
       "      <td>503</td>\n",
       "    </tr>\n",
       "    <tr>\n",
       "      <th>1</th>\n",
       "      <td>B</td>\n",
       "      <td>586</td>\n",
       "    </tr>\n",
       "  </tbody>\n",
       "</table>\n",
       "</div>"
      ],
      "text/plain": [
       "  group  visitorId\n",
       "0     A        503\n",
       "1     B        586"
      ]
     },
     "execution_count": 6,
     "metadata": {},
     "output_type": "execute_result"
    }
   ],
   "source": [
    "# How many users in each group\n",
    "orders.groupby(['group']).agg({'visitorId' : 'nunique'}).reset_index()"
   ]
  },
  {
   "cell_type": "markdown",
   "id": "12dd7a8a",
   "metadata": {},
   "source": [
    "Ther are 1031 users overall and 1089 in the groups, must be some users in both groups!"
   ]
  },
  {
   "cell_type": "code",
   "execution_count": 7,
   "id": "b003c229",
   "metadata": {
    "scrolled": true
   },
   "outputs": [
    {
     "data": {
      "text/html": [
       "<div>\n",
       "<style scoped>\n",
       "    .dataframe tbody tr th:only-of-type {\n",
       "        vertical-align: middle;\n",
       "    }\n",
       "\n",
       "    .dataframe tbody tr th {\n",
       "        vertical-align: top;\n",
       "    }\n",
       "\n",
       "    .dataframe thead th {\n",
       "        text-align: right;\n",
       "    }\n",
       "</style>\n",
       "<table border=\"1\" class=\"dataframe\">\n",
       "  <thead>\n",
       "    <tr style=\"text-align: right;\">\n",
       "      <th></th>\n",
       "      <th>visitorId</th>\n",
       "      <th>group</th>\n",
       "    </tr>\n",
       "  </thead>\n",
       "  <tbody>\n",
       "    <tr>\n",
       "      <th>639</th>\n",
       "      <td>2654030115</td>\n",
       "      <td>2.0</td>\n",
       "    </tr>\n",
       "    <tr>\n",
       "      <th>932</th>\n",
       "      <td>3891541246</td>\n",
       "      <td>2.0</td>\n",
       "    </tr>\n",
       "    <tr>\n",
       "      <th>950</th>\n",
       "      <td>3941795274</td>\n",
       "      <td>2.0</td>\n",
       "    </tr>\n",
       "    <tr>\n",
       "      <th>340</th>\n",
       "      <td>1404934699</td>\n",
       "      <td>2.0</td>\n",
       "    </tr>\n",
       "    <tr>\n",
       "      <th>84</th>\n",
       "      <td>351125977</td>\n",
       "      <td>2.0</td>\n",
       "    </tr>\n",
       "    <tr>\n",
       "      <th>954</th>\n",
       "      <td>3951559397</td>\n",
       "      <td>2.0</td>\n",
       "    </tr>\n",
       "    <tr>\n",
       "      <th>710</th>\n",
       "      <td>2927087541</td>\n",
       "      <td>2.0</td>\n",
       "    </tr>\n",
       "    <tr>\n",
       "      <th>958</th>\n",
       "      <td>3963646447</td>\n",
       "      <td>2.0</td>\n",
       "    </tr>\n",
       "    <tr>\n",
       "      <th>591</th>\n",
       "      <td>2458001652</td>\n",
       "      <td>2.0</td>\n",
       "    </tr>\n",
       "    <tr>\n",
       "      <th>960</th>\n",
       "      <td>3972127743</td>\n",
       "      <td>2.0</td>\n",
       "    </tr>\n",
       "    <tr>\n",
       "      <th>963</th>\n",
       "      <td>3984495233</td>\n",
       "      <td>2.0</td>\n",
       "    </tr>\n",
       "    <tr>\n",
       "      <th>715</th>\n",
       "      <td>2949041841</td>\n",
       "      <td>2.0</td>\n",
       "    </tr>\n",
       "    <tr>\n",
       "      <th>469</th>\n",
       "      <td>1959144690</td>\n",
       "      <td>2.0</td>\n",
       "    </tr>\n",
       "    <tr>\n",
       "      <th>66</th>\n",
       "      <td>276558944</td>\n",
       "      <td>2.0</td>\n",
       "    </tr>\n",
       "    <tr>\n",
       "      <th>718</th>\n",
       "      <td>2954449915</td>\n",
       "      <td>2.0</td>\n",
       "    </tr>\n",
       "    <tr>\n",
       "      <th>55</th>\n",
       "      <td>237748145</td>\n",
       "      <td>2.0</td>\n",
       "    </tr>\n",
       "    <tr>\n",
       "      <th>236</th>\n",
       "      <td>963407295</td>\n",
       "      <td>2.0</td>\n",
       "    </tr>\n",
       "    <tr>\n",
       "      <th>318</th>\n",
       "      <td>1333886533</td>\n",
       "      <td>2.0</td>\n",
       "    </tr>\n",
       "    <tr>\n",
       "      <th>51</th>\n",
       "      <td>232979603</td>\n",
       "      <td>2.0</td>\n",
       "    </tr>\n",
       "    <tr>\n",
       "      <th>984</th>\n",
       "      <td>4069496402</td>\n",
       "      <td>2.0</td>\n",
       "    </tr>\n",
       "    <tr>\n",
       "      <th>569</th>\n",
       "      <td>2378935119</td>\n",
       "      <td>2.0</td>\n",
       "    </tr>\n",
       "    <tr>\n",
       "      <th>97</th>\n",
       "      <td>393266494</td>\n",
       "      <td>2.0</td>\n",
       "    </tr>\n",
       "    <tr>\n",
       "      <th>614</th>\n",
       "      <td>2579882178</td>\n",
       "      <td>2.0</td>\n",
       "    </tr>\n",
       "    <tr>\n",
       "      <th>316</th>\n",
       "      <td>1316129916</td>\n",
       "      <td>2.0</td>\n",
       "    </tr>\n",
       "    <tr>\n",
       "      <th>436</th>\n",
       "      <td>1801183820</td>\n",
       "      <td>2.0</td>\n",
       "    </tr>\n",
       "    <tr>\n",
       "      <th>884</th>\n",
       "      <td>3656415546</td>\n",
       "      <td>2.0</td>\n",
       "    </tr>\n",
       "    <tr>\n",
       "      <th>393</th>\n",
       "      <td>1614305549</td>\n",
       "      <td>2.0</td>\n",
       "    </tr>\n",
       "    <tr>\n",
       "      <th>402</th>\n",
       "      <td>1648269707</td>\n",
       "      <td>2.0</td>\n",
       "    </tr>\n",
       "    <tr>\n",
       "      <th>648</th>\n",
       "      <td>2686716486</td>\n",
       "      <td>2.0</td>\n",
       "    </tr>\n",
       "    <tr>\n",
       "      <th>661</th>\n",
       "      <td>2712142231</td>\n",
       "      <td>2.0</td>\n",
       "    </tr>\n",
       "    <tr>\n",
       "      <th>662</th>\n",
       "      <td>2716752286</td>\n",
       "      <td>2.0</td>\n",
       "    </tr>\n",
       "    <tr>\n",
       "      <th>406</th>\n",
       "      <td>1668030113</td>\n",
       "      <td>2.0</td>\n",
       "    </tr>\n",
       "    <tr>\n",
       "      <th>386</th>\n",
       "      <td>1602967004</td>\n",
       "      <td>2.0</td>\n",
       "    </tr>\n",
       "    <tr>\n",
       "      <th>897</th>\n",
       "      <td>3717692402</td>\n",
       "      <td>2.0</td>\n",
       "    </tr>\n",
       "    <tr>\n",
       "      <th>909</th>\n",
       "      <td>3766097110</td>\n",
       "      <td>2.0</td>\n",
       "    </tr>\n",
       "    <tr>\n",
       "      <th>422</th>\n",
       "      <td>1738359350</td>\n",
       "      <td>2.0</td>\n",
       "    </tr>\n",
       "    <tr>\n",
       "      <th>677</th>\n",
       "      <td>2780786433</td>\n",
       "      <td>2.0</td>\n",
       "    </tr>\n",
       "    <tr>\n",
       "      <th>917</th>\n",
       "      <td>3803269165</td>\n",
       "      <td>2.0</td>\n",
       "    </tr>\n",
       "    <tr>\n",
       "      <th>122</th>\n",
       "      <td>477780734</td>\n",
       "      <td>2.0</td>\n",
       "    </tr>\n",
       "    <tr>\n",
       "      <th>119</th>\n",
       "      <td>471551937</td>\n",
       "      <td>2.0</td>\n",
       "    </tr>\n",
       "    <tr>\n",
       "      <th>622</th>\n",
       "      <td>2600415354</td>\n",
       "      <td>2.0</td>\n",
       "    </tr>\n",
       "    <tr>\n",
       "      <th>192</th>\n",
       "      <td>818047933</td>\n",
       "      <td>2.0</td>\n",
       "    </tr>\n",
       "    <tr>\n",
       "      <th>114</th>\n",
       "      <td>457167155</td>\n",
       "      <td>2.0</td>\n",
       "    </tr>\n",
       "    <tr>\n",
       "      <th>619</th>\n",
       "      <td>2587333274</td>\n",
       "      <td>2.0</td>\n",
       "    </tr>\n",
       "    <tr>\n",
       "      <th>487</th>\n",
       "      <td>2038680547</td>\n",
       "      <td>2.0</td>\n",
       "    </tr>\n",
       "    <tr>\n",
       "      <th>957</th>\n",
       "      <td>3957174400</td>\n",
       "      <td>2.0</td>\n",
       "    </tr>\n",
       "    <tr>\n",
       "      <th>792</th>\n",
       "      <td>3234906277</td>\n",
       "      <td>2.0</td>\n",
       "    </tr>\n",
       "    <tr>\n",
       "      <th>311</th>\n",
       "      <td>1294878855</td>\n",
       "      <td>2.0</td>\n",
       "    </tr>\n",
       "    <tr>\n",
       "      <th>44</th>\n",
       "      <td>199603092</td>\n",
       "      <td>2.0</td>\n",
       "    </tr>\n",
       "    <tr>\n",
       "      <th>784</th>\n",
       "      <td>3202540741</td>\n",
       "      <td>2.0</td>\n",
       "    </tr>\n",
       "    <tr>\n",
       "      <th>299</th>\n",
       "      <td>1230306981</td>\n",
       "      <td>2.0</td>\n",
       "    </tr>\n",
       "    <tr>\n",
       "      <th>744</th>\n",
       "      <td>3062433592</td>\n",
       "      <td>2.0</td>\n",
       "    </tr>\n",
       "    <tr>\n",
       "      <th>1023</th>\n",
       "      <td>4256040402</td>\n",
       "      <td>2.0</td>\n",
       "    </tr>\n",
       "    <tr>\n",
       "      <th>1026</th>\n",
       "      <td>4266935830</td>\n",
       "      <td>2.0</td>\n",
       "    </tr>\n",
       "    <tr>\n",
       "      <th>1009</th>\n",
       "      <td>4186807279</td>\n",
       "      <td>2.0</td>\n",
       "    </tr>\n",
       "    <tr>\n",
       "      <th>2</th>\n",
       "      <td>8300375</td>\n",
       "      <td>2.0</td>\n",
       "    </tr>\n",
       "    <tr>\n",
       "      <th>992</th>\n",
       "      <td>4120364173</td>\n",
       "      <td>2.0</td>\n",
       "    </tr>\n",
       "    <tr>\n",
       "      <th>491</th>\n",
       "      <td>2044997962</td>\n",
       "      <td>2.0</td>\n",
       "    </tr>\n",
       "  </tbody>\n",
       "</table>\n",
       "</div>"
      ],
      "text/plain": [
       "       visitorId  group\n",
       "639   2654030115    2.0\n",
       "932   3891541246    2.0\n",
       "950   3941795274    2.0\n",
       "340   1404934699    2.0\n",
       "84     351125977    2.0\n",
       "954   3951559397    2.0\n",
       "710   2927087541    2.0\n",
       "958   3963646447    2.0\n",
       "591   2458001652    2.0\n",
       "960   3972127743    2.0\n",
       "963   3984495233    2.0\n",
       "715   2949041841    2.0\n",
       "469   1959144690    2.0\n",
       "66     276558944    2.0\n",
       "718   2954449915    2.0\n",
       "55     237748145    2.0\n",
       "236    963407295    2.0\n",
       "318   1333886533    2.0\n",
       "51     232979603    2.0\n",
       "984   4069496402    2.0\n",
       "569   2378935119    2.0\n",
       "97     393266494    2.0\n",
       "614   2579882178    2.0\n",
       "316   1316129916    2.0\n",
       "436   1801183820    2.0\n",
       "884   3656415546    2.0\n",
       "393   1614305549    2.0\n",
       "402   1648269707    2.0\n",
       "648   2686716486    2.0\n",
       "661   2712142231    2.0\n",
       "662   2716752286    2.0\n",
       "406   1668030113    2.0\n",
       "386   1602967004    2.0\n",
       "897   3717692402    2.0\n",
       "909   3766097110    2.0\n",
       "422   1738359350    2.0\n",
       "677   2780786433    2.0\n",
       "917   3803269165    2.0\n",
       "122    477780734    2.0\n",
       "119    471551937    2.0\n",
       "622   2600415354    2.0\n",
       "192    818047933    2.0\n",
       "114    457167155    2.0\n",
       "619   2587333274    2.0\n",
       "487   2038680547    2.0\n",
       "957   3957174400    2.0\n",
       "792   3234906277    2.0\n",
       "311   1294878855    2.0\n",
       "44     199603092    2.0\n",
       "784   3202540741    2.0\n",
       "299   1230306981    2.0\n",
       "744   3062433592    2.0\n",
       "1023  4256040402    2.0\n",
       "1026  4266935830    2.0\n",
       "1009  4186807279    2.0\n",
       "2        8300375    2.0\n",
       "992   4120364173    2.0\n",
       "491   2044997962    2.0"
      ]
     },
     "execution_count": 7,
     "metadata": {},
     "output_type": "execute_result"
    }
   ],
   "source": [
    "#finding users that are in both groups\n",
    "is_duplicates = orders.groupby('visitorId', as_index=False)['group'].nunique().sort_values(by= 'group',ascending=False)\n",
    "duplicates = is_duplicates[is_duplicates > 1].dropna()\n",
    "duplicates\n"
   ]
  },
  {
   "cell_type": "code",
   "execution_count": 8,
   "id": "386cc5fc",
   "metadata": {},
   "outputs": [],
   "source": [
    "#creating dataframe before changes\n",
    "orders_before = orders.copy()"
   ]
  },
  {
   "cell_type": "code",
   "execution_count": 9,
   "id": "60ba5530",
   "metadata": {},
   "outputs": [],
   "source": [
    "#getting rid of users that are in both groups\n",
    "orders = orders[~orders['visitorId'].isin(duplicates['visitorId'])]"
   ]
  },
  {
   "cell_type": "code",
   "execution_count": 10,
   "id": "d45f142c",
   "metadata": {},
   "outputs": [
    {
     "data": {
      "text/html": [
       "<div>\n",
       "<style scoped>\n",
       "    .dataframe tbody tr th:only-of-type {\n",
       "        vertical-align: middle;\n",
       "    }\n",
       "\n",
       "    .dataframe tbody tr th {\n",
       "        vertical-align: top;\n",
       "    }\n",
       "\n",
       "    .dataframe thead th {\n",
       "        text-align: right;\n",
       "    }\n",
       "</style>\n",
       "<table border=\"1\" class=\"dataframe\">\n",
       "  <thead>\n",
       "    <tr style=\"text-align: right;\">\n",
       "      <th></th>\n",
       "      <th>group</th>\n",
       "      <th>visitorId</th>\n",
       "    </tr>\n",
       "  </thead>\n",
       "  <tbody>\n",
       "    <tr>\n",
       "      <th>0</th>\n",
       "      <td>A</td>\n",
       "      <td>445</td>\n",
       "    </tr>\n",
       "    <tr>\n",
       "      <th>1</th>\n",
       "      <td>B</td>\n",
       "      <td>528</td>\n",
       "    </tr>\n",
       "  </tbody>\n",
       "</table>\n",
       "</div>"
      ],
      "text/plain": [
       "  group  visitorId\n",
       "0     A        445\n",
       "1     B        528"
      ]
     },
     "execution_count": 10,
     "metadata": {},
     "output_type": "execute_result"
    }
   ],
   "source": [
    "# How many users in each group\n",
    "orders.groupby(['group']).agg({'visitorId' : 'nunique'}).reset_index()"
   ]
  },
  {
   "cell_type": "code",
   "execution_count": 11,
   "id": "b7d98cdc",
   "metadata": {},
   "outputs": [
    {
     "name": "stdout",
     "output_type": "stream",
     "text": [
      "2019-08-01 00:00:00\n",
      "2019-08-31 00:00:00\n"
     ]
    }
   ],
   "source": [
    "#checking test duration\n",
    "print(orders['date'].min())\n",
    "print(orders['date'].max())"
   ]
  },
  {
   "cell_type": "code",
   "execution_count": 12,
   "id": "c7ddc952",
   "metadata": {},
   "outputs": [
    {
     "name": "stdout",
     "output_type": "stream",
     "text": [
      "Nuber of duplicates: 0\n"
     ]
    }
   ],
   "source": [
    "# cheking for duplicates\n",
    "print(f\"Nuber of duplicates: {orders.duplicated().sum()}\")"
   ]
  },
  {
   "cell_type": "markdown",
   "id": "508df614",
   "metadata": {},
   "source": [
    "### 'Orders' data preprocesing conclusions:\n",
    "* There is no missing data.\n",
    "\n",
    "\n",
    "* There aren't any duplicates.\n",
    "\n",
    "\n",
    "* The duration of the test is 1 month (August 2019).\n",
    "\n",
    "\n",
    "* There were 68 users in both groups, I got rid of them because they are irelevant to the test."
   ]
  },
  {
   "cell_type": "markdown",
   "id": "a7845578",
   "metadata": {},
   "source": [
    "## visits"
   ]
  },
  {
   "cell_type": "code",
   "execution_count": 13,
   "id": "7023ce8a",
   "metadata": {},
   "outputs": [
    {
     "data": {
      "text/html": [
       "<div>\n",
       "<style scoped>\n",
       "    .dataframe tbody tr th:only-of-type {\n",
       "        vertical-align: middle;\n",
       "    }\n",
       "\n",
       "    .dataframe tbody tr th {\n",
       "        vertical-align: top;\n",
       "    }\n",
       "\n",
       "    .dataframe thead th {\n",
       "        text-align: right;\n",
       "    }\n",
       "</style>\n",
       "<table border=\"1\" class=\"dataframe\">\n",
       "  <thead>\n",
       "    <tr style=\"text-align: right;\">\n",
       "      <th></th>\n",
       "      <th>date</th>\n",
       "      <th>group</th>\n",
       "      <th>visits</th>\n",
       "    </tr>\n",
       "  </thead>\n",
       "  <tbody>\n",
       "    <tr>\n",
       "      <th>0</th>\n",
       "      <td>2019-08-01</td>\n",
       "      <td>A</td>\n",
       "      <td>719</td>\n",
       "    </tr>\n",
       "    <tr>\n",
       "      <th>1</th>\n",
       "      <td>2019-08-02</td>\n",
       "      <td>A</td>\n",
       "      <td>619</td>\n",
       "    </tr>\n",
       "    <tr>\n",
       "      <th>2</th>\n",
       "      <td>2019-08-03</td>\n",
       "      <td>A</td>\n",
       "      <td>507</td>\n",
       "    </tr>\n",
       "    <tr>\n",
       "      <th>3</th>\n",
       "      <td>2019-08-04</td>\n",
       "      <td>A</td>\n",
       "      <td>717</td>\n",
       "    </tr>\n",
       "    <tr>\n",
       "      <th>4</th>\n",
       "      <td>2019-08-05</td>\n",
       "      <td>A</td>\n",
       "      <td>756</td>\n",
       "    </tr>\n",
       "  </tbody>\n",
       "</table>\n",
       "</div>"
      ],
      "text/plain": [
       "        date group  visits\n",
       "0 2019-08-01     A     719\n",
       "1 2019-08-02     A     619\n",
       "2 2019-08-03     A     507\n",
       "3 2019-08-04     A     717\n",
       "4 2019-08-05     A     756"
      ]
     },
     "execution_count": 13,
     "metadata": {},
     "output_type": "execute_result"
    }
   ],
   "source": [
    "#data sample\n",
    "visits.head()"
   ]
  },
  {
   "cell_type": "code",
   "execution_count": 14,
   "id": "e87508b1",
   "metadata": {
    "scrolled": false
   },
   "outputs": [
    {
     "name": "stdout",
     "output_type": "stream",
     "text": [
      "<class 'pandas.core.frame.DataFrame'>\n",
      "RangeIndex: 62 entries, 0 to 61\n",
      "Data columns (total 3 columns):\n",
      " #   Column  Non-Null Count  Dtype         \n",
      "---  ------  --------------  -----         \n",
      " 0   date    62 non-null     datetime64[ns]\n",
      " 1   group   62 non-null     object        \n",
      " 2   visits  62 non-null     int64         \n",
      "dtypes: datetime64[ns](1), int64(1), object(1)\n",
      "memory usage: 1.6+ KB\n"
     ]
    }
   ],
   "source": [
    "#general info\n",
    "visits.info()"
   ]
  },
  {
   "cell_type": "code",
   "execution_count": 15,
   "id": "29060da7",
   "metadata": {},
   "outputs": [
    {
     "data": {
      "text/plain": [
       "A    31\n",
       "B    31\n",
       "Name: group, dtype: int64"
      ]
     },
     "execution_count": 15,
     "metadata": {},
     "output_type": "execute_result"
    }
   ],
   "source": [
    "#checking groups distribution\n",
    "visits['group'].value_counts()"
   ]
  },
  {
   "cell_type": "code",
   "execution_count": 16,
   "id": "7268aacf",
   "metadata": {},
   "outputs": [
    {
     "name": "stdout",
     "output_type": "stream",
     "text": [
      "2019-08-01 00:00:00\n",
      "2019-08-31 00:00:00\n"
     ]
    }
   ],
   "source": [
    "#checking test duration\n",
    "print(visits['date'].min())\n",
    "print(visits['date'].max())"
   ]
  },
  {
   "cell_type": "code",
   "execution_count": 17,
   "id": "bc384efd",
   "metadata": {},
   "outputs": [
    {
     "name": "stdout",
     "output_type": "stream",
     "text": [
      "Nuber of duplicates: 0\n"
     ]
    }
   ],
   "source": [
    "# cheking for duplicates\n",
    "print(f\"Nuber of duplicates: {visits.duplicated().sum()}\")"
   ]
  },
  {
   "cell_type": "markdown",
   "id": "4b7edee9",
   "metadata": {},
   "source": [
    "### 'Vsits' data preprocesing conclussions:\n",
    "* There is no missing data.\n",
    "\n",
    "\n",
    "* There aren't any duplicates.\n",
    "\n",
    "\n",
    "* The duration of the test is 1 month (August 2019).\n"
   ]
  },
  {
   "cell_type": "markdown",
   "id": "2edffe31",
   "metadata": {},
   "source": [
    "## hypotheses"
   ]
  },
  {
   "cell_type": "code",
   "execution_count": 18,
   "id": "6d65644d",
   "metadata": {},
   "outputs": [
    {
     "data": {
      "text/html": [
       "<div>\n",
       "<style scoped>\n",
       "    .dataframe tbody tr th:only-of-type {\n",
       "        vertical-align: middle;\n",
       "    }\n",
       "\n",
       "    .dataframe tbody tr th {\n",
       "        vertical-align: top;\n",
       "    }\n",
       "\n",
       "    .dataframe thead th {\n",
       "        text-align: right;\n",
       "    }\n",
       "</style>\n",
       "<table border=\"1\" class=\"dataframe\">\n",
       "  <thead>\n",
       "    <tr style=\"text-align: right;\">\n",
       "      <th></th>\n",
       "      <th>Hypothesis</th>\n",
       "      <th>Reach</th>\n",
       "      <th>Impact</th>\n",
       "      <th>Confidence</th>\n",
       "      <th>Effort</th>\n",
       "    </tr>\n",
       "  </thead>\n",
       "  <tbody>\n",
       "    <tr>\n",
       "      <th>0</th>\n",
       "      <td>Add two new channels for attracting traffic. This will bring 30% more users</td>\n",
       "      <td>3</td>\n",
       "      <td>10</td>\n",
       "      <td>8</td>\n",
       "      <td>6</td>\n",
       "    </tr>\n",
       "    <tr>\n",
       "      <th>1</th>\n",
       "      <td>Launch your own delivery service. This will shorten delivery time</td>\n",
       "      <td>2</td>\n",
       "      <td>5</td>\n",
       "      <td>4</td>\n",
       "      <td>10</td>\n",
       "    </tr>\n",
       "    <tr>\n",
       "      <th>2</th>\n",
       "      <td>Add product recommendation blocks to the store's site. This will increase conversion and average purchase size</td>\n",
       "      <td>8</td>\n",
       "      <td>3</td>\n",
       "      <td>7</td>\n",
       "      <td>3</td>\n",
       "    </tr>\n",
       "    <tr>\n",
       "      <th>3</th>\n",
       "      <td>Change the category structure. This will increase conversion since users will find the products they want more quickly</td>\n",
       "      <td>8</td>\n",
       "      <td>3</td>\n",
       "      <td>3</td>\n",
       "      <td>8</td>\n",
       "    </tr>\n",
       "    <tr>\n",
       "      <th>4</th>\n",
       "      <td>Change the background color on the main page. This will increase user engagement</td>\n",
       "      <td>3</td>\n",
       "      <td>1</td>\n",
       "      <td>1</td>\n",
       "      <td>1</td>\n",
       "    </tr>\n",
       "    <tr>\n",
       "      <th>5</th>\n",
       "      <td>Add a customer review page. This will increase the number of orders</td>\n",
       "      <td>3</td>\n",
       "      <td>2</td>\n",
       "      <td>2</td>\n",
       "      <td>3</td>\n",
       "    </tr>\n",
       "    <tr>\n",
       "      <th>6</th>\n",
       "      <td>Show banners with current offers and sales on the main page. This will boost conversion</td>\n",
       "      <td>5</td>\n",
       "      <td>3</td>\n",
       "      <td>8</td>\n",
       "      <td>3</td>\n",
       "    </tr>\n",
       "    <tr>\n",
       "      <th>7</th>\n",
       "      <td>Add a subscription form to all the main pages. This will help you compile a mailing list</td>\n",
       "      <td>10</td>\n",
       "      <td>7</td>\n",
       "      <td>8</td>\n",
       "      <td>5</td>\n",
       "    </tr>\n",
       "    <tr>\n",
       "      <th>8</th>\n",
       "      <td>Launch a promotion that gives users discounts on their birthdays</td>\n",
       "      <td>1</td>\n",
       "      <td>9</td>\n",
       "      <td>9</td>\n",
       "      <td>5</td>\n",
       "    </tr>\n",
       "  </tbody>\n",
       "</table>\n",
       "</div>"
      ],
      "text/plain": [
       "                                                                                                               Hypothesis  \\\n",
       "0                                             Add two new channels for attracting traffic. This will bring 30% more users   \n",
       "1                                                       Launch your own delivery service. This will shorten delivery time   \n",
       "2          Add product recommendation blocks to the store's site. This will increase conversion and average purchase size   \n",
       "3  Change the category structure. This will increase conversion since users will find the products they want more quickly   \n",
       "4                                        Change the background color on the main page. This will increase user engagement   \n",
       "5                                                     Add a customer review page. This will increase the number of orders   \n",
       "6                                 Show banners with current offers and sales on the main page. This will boost conversion   \n",
       "7                                Add a subscription form to all the main pages. This will help you compile a mailing list   \n",
       "8                                                        Launch a promotion that gives users discounts on their birthdays   \n",
       "\n",
       "   Reach  Impact  Confidence  Effort  \n",
       "0      3      10           8       6  \n",
       "1      2       5           4      10  \n",
       "2      8       3           7       3  \n",
       "3      8       3           3       8  \n",
       "4      3       1           1       1  \n",
       "5      3       2           2       3  \n",
       "6      5       3           8       3  \n",
       "7     10       7           8       5  \n",
       "8      1       9           9       5  "
      ]
     },
     "metadata": {},
     "output_type": "display_data"
    }
   ],
   "source": [
    "#data\n",
    "pd.set_option('display.max_colwidth', None)\n",
    "display(hypotheses)"
   ]
  },
  {
   "cell_type": "code",
   "execution_count": 19,
   "id": "c8aea599",
   "metadata": {
    "scrolled": false
   },
   "outputs": [
    {
     "name": "stdout",
     "output_type": "stream",
     "text": [
      "<class 'pandas.core.frame.DataFrame'>\n",
      "RangeIndex: 9 entries, 0 to 8\n",
      "Data columns (total 5 columns):\n",
      " #   Column      Non-Null Count  Dtype \n",
      "---  ------      --------------  ----- \n",
      " 0   Hypothesis  9 non-null      object\n",
      " 1   Reach       9 non-null      int64 \n",
      " 2   Impact      9 non-null      int64 \n",
      " 3   Confidence  9 non-null      int64 \n",
      " 4   Effort      9 non-null      int64 \n",
      "dtypes: int64(4), object(1)\n",
      "memory usage: 488.0+ bytes\n"
     ]
    }
   ],
   "source": [
    "#general info\n",
    "hypotheses.info()"
   ]
  },
  {
   "cell_type": "code",
   "execution_count": 20,
   "id": "d0933783",
   "metadata": {},
   "outputs": [
    {
     "data": {
      "text/html": [
       "<div>\n",
       "<style scoped>\n",
       "    .dataframe tbody tr th:only-of-type {\n",
       "        vertical-align: middle;\n",
       "    }\n",
       "\n",
       "    .dataframe tbody tr th {\n",
       "        vertical-align: top;\n",
       "    }\n",
       "\n",
       "    .dataframe thead th {\n",
       "        text-align: right;\n",
       "    }\n",
       "</style>\n",
       "<table border=\"1\" class=\"dataframe\">\n",
       "  <thead>\n",
       "    <tr style=\"text-align: right;\">\n",
       "      <th></th>\n",
       "      <th>hypothesis</th>\n",
       "      <th>reach</th>\n",
       "      <th>impact</th>\n",
       "      <th>confidence</th>\n",
       "      <th>effort</th>\n",
       "    </tr>\n",
       "  </thead>\n",
       "  <tbody>\n",
       "  </tbody>\n",
       "</table>\n",
       "</div>"
      ],
      "text/plain": [
       "Empty DataFrame\n",
       "Columns: [hypothesis, reach, impact, confidence, effort]\n",
       "Index: []"
      ]
     },
     "execution_count": 20,
     "metadata": {},
     "output_type": "execute_result"
    }
   ],
   "source": [
    "# Changing column names to lowercase letter\n",
    "hypotheses.columns = hypotheses.columns.str.lower()\n",
    "hypotheses.head(0)"
   ]
  },
  {
   "cell_type": "markdown",
   "id": "7e94f8c1",
   "metadata": {},
   "source": [
    "### Hypothses data preprocesing conclussions:\n",
    "* There is no missing data.\n",
    "\n",
    "\n",
    "* There aren't any duplicates."
   ]
  },
  {
   "cell_type": "markdown",
   "id": "8256f782",
   "metadata": {},
   "source": [
    "# Part 1. Prioritizing Hypotheses"
   ]
  },
  {
   "cell_type": "markdown",
   "id": "679059cf",
   "metadata": {},
   "source": [
    "## Aplying 'ICE'\n"
   ]
  },
  {
   "cell_type": "code",
   "execution_count": 21,
   "id": "a736e7b0",
   "metadata": {},
   "outputs": [
    {
     "data": {
      "text/html": [
       "<div>\n",
       "<style scoped>\n",
       "    .dataframe tbody tr th:only-of-type {\n",
       "        vertical-align: middle;\n",
       "    }\n",
       "\n",
       "    .dataframe tbody tr th {\n",
       "        vertical-align: top;\n",
       "    }\n",
       "\n",
       "    .dataframe thead th {\n",
       "        text-align: right;\n",
       "    }\n",
       "</style>\n",
       "<table border=\"1\" class=\"dataframe\">\n",
       "  <thead>\n",
       "    <tr style=\"text-align: right;\">\n",
       "      <th></th>\n",
       "      <th>hypothesis</th>\n",
       "      <th>ICE</th>\n",
       "    </tr>\n",
       "  </thead>\n",
       "  <tbody>\n",
       "    <tr>\n",
       "      <th>8</th>\n",
       "      <td>Launch a promotion that gives users discounts on their birthdays</td>\n",
       "      <td>16.200000</td>\n",
       "    </tr>\n",
       "    <tr>\n",
       "      <th>0</th>\n",
       "      <td>Add two new channels for attracting traffic. This will bring 30% more users</td>\n",
       "      <td>13.333333</td>\n",
       "    </tr>\n",
       "    <tr>\n",
       "      <th>7</th>\n",
       "      <td>Add a subscription form to all the main pages. This will help you compile a mailing list</td>\n",
       "      <td>11.200000</td>\n",
       "    </tr>\n",
       "    <tr>\n",
       "      <th>6</th>\n",
       "      <td>Show banners with current offers and sales on the main page. This will boost conversion</td>\n",
       "      <td>8.000000</td>\n",
       "    </tr>\n",
       "    <tr>\n",
       "      <th>2</th>\n",
       "      <td>Add product recommendation blocks to the store's site. This will increase conversion and average purchase size</td>\n",
       "      <td>7.000000</td>\n",
       "    </tr>\n",
       "    <tr>\n",
       "      <th>1</th>\n",
       "      <td>Launch your own delivery service. This will shorten delivery time</td>\n",
       "      <td>2.000000</td>\n",
       "    </tr>\n",
       "    <tr>\n",
       "      <th>5</th>\n",
       "      <td>Add a customer review page. This will increase the number of orders</td>\n",
       "      <td>1.333333</td>\n",
       "    </tr>\n",
       "    <tr>\n",
       "      <th>3</th>\n",
       "      <td>Change the category structure. This will increase conversion since users will find the products they want more quickly</td>\n",
       "      <td>1.125000</td>\n",
       "    </tr>\n",
       "    <tr>\n",
       "      <th>4</th>\n",
       "      <td>Change the background color on the main page. This will increase user engagement</td>\n",
       "      <td>1.000000</td>\n",
       "    </tr>\n",
       "  </tbody>\n",
       "</table>\n",
       "</div>"
      ],
      "text/plain": [
       "                                                                                                               hypothesis  \\\n",
       "8                                                        Launch a promotion that gives users discounts on their birthdays   \n",
       "0                                             Add two new channels for attracting traffic. This will bring 30% more users   \n",
       "7                                Add a subscription form to all the main pages. This will help you compile a mailing list   \n",
       "6                                 Show banners with current offers and sales on the main page. This will boost conversion   \n",
       "2          Add product recommendation blocks to the store's site. This will increase conversion and average purchase size   \n",
       "1                                                       Launch your own delivery service. This will shorten delivery time   \n",
       "5                                                     Add a customer review page. This will increase the number of orders   \n",
       "3  Change the category structure. This will increase conversion since users will find the products they want more quickly   \n",
       "4                                        Change the background color on the main page. This will increase user engagement   \n",
       "\n",
       "         ICE  \n",
       "8  16.200000  \n",
       "0  13.333333  \n",
       "7  11.200000  \n",
       "6   8.000000  \n",
       "2   7.000000  \n",
       "1   2.000000  \n",
       "5   1.333333  \n",
       "3   1.125000  \n",
       "4   1.000000  "
      ]
     },
     "metadata": {},
     "output_type": "display_data"
    }
   ],
   "source": [
    "pd.set_option('display.max_colwidth', None)\n",
    "hypotheses['ICE'] = (hypotheses['impact'] * hypotheses['confidence']) / hypotheses['effort']\n",
    "display(hypotheses[['hypothesis', 'ICE']].sort_values(by=['ICE'], ascending=False))"
   ]
  },
  {
   "cell_type": "markdown",
   "id": "a9bd614c",
   "metadata": {},
   "source": [
    "## Aplying 'RICE'\n"
   ]
  },
  {
   "cell_type": "code",
   "execution_count": 22,
   "id": "bf0f5b70",
   "metadata": {
    "scrolled": true
   },
   "outputs": [
    {
     "data": {
      "text/html": [
       "<div>\n",
       "<style scoped>\n",
       "    .dataframe tbody tr th:only-of-type {\n",
       "        vertical-align: middle;\n",
       "    }\n",
       "\n",
       "    .dataframe tbody tr th {\n",
       "        vertical-align: top;\n",
       "    }\n",
       "\n",
       "    .dataframe thead th {\n",
       "        text-align: right;\n",
       "    }\n",
       "</style>\n",
       "<table border=\"1\" class=\"dataframe\">\n",
       "  <thead>\n",
       "    <tr style=\"text-align: right;\">\n",
       "      <th></th>\n",
       "      <th>hypothesis</th>\n",
       "      <th>RICE</th>\n",
       "    </tr>\n",
       "  </thead>\n",
       "  <tbody>\n",
       "    <tr>\n",
       "      <th>7</th>\n",
       "      <td>Add a subscription form to all the main pages. This will help you compile a mailing list</td>\n",
       "      <td>112.0</td>\n",
       "    </tr>\n",
       "    <tr>\n",
       "      <th>2</th>\n",
       "      <td>Add product recommendation blocks to the store's site. This will increase conversion and average purchase size</td>\n",
       "      <td>56.0</td>\n",
       "    </tr>\n",
       "    <tr>\n",
       "      <th>0</th>\n",
       "      <td>Add two new channels for attracting traffic. This will bring 30% more users</td>\n",
       "      <td>40.0</td>\n",
       "    </tr>\n",
       "    <tr>\n",
       "      <th>6</th>\n",
       "      <td>Show banners with current offers and sales on the main page. This will boost conversion</td>\n",
       "      <td>40.0</td>\n",
       "    </tr>\n",
       "    <tr>\n",
       "      <th>8</th>\n",
       "      <td>Launch a promotion that gives users discounts on their birthdays</td>\n",
       "      <td>16.2</td>\n",
       "    </tr>\n",
       "    <tr>\n",
       "      <th>3</th>\n",
       "      <td>Change the category structure. This will increase conversion since users will find the products they want more quickly</td>\n",
       "      <td>9.0</td>\n",
       "    </tr>\n",
       "    <tr>\n",
       "      <th>1</th>\n",
       "      <td>Launch your own delivery service. This will shorten delivery time</td>\n",
       "      <td>4.0</td>\n",
       "    </tr>\n",
       "    <tr>\n",
       "      <th>5</th>\n",
       "      <td>Add a customer review page. This will increase the number of orders</td>\n",
       "      <td>4.0</td>\n",
       "    </tr>\n",
       "    <tr>\n",
       "      <th>4</th>\n",
       "      <td>Change the background color on the main page. This will increase user engagement</td>\n",
       "      <td>3.0</td>\n",
       "    </tr>\n",
       "  </tbody>\n",
       "</table>\n",
       "</div>"
      ],
      "text/plain": [
       "                                                                                                               hypothesis  \\\n",
       "7                                Add a subscription form to all the main pages. This will help you compile a mailing list   \n",
       "2          Add product recommendation blocks to the store's site. This will increase conversion and average purchase size   \n",
       "0                                             Add two new channels for attracting traffic. This will bring 30% more users   \n",
       "6                                 Show banners with current offers and sales on the main page. This will boost conversion   \n",
       "8                                                        Launch a promotion that gives users discounts on their birthdays   \n",
       "3  Change the category structure. This will increase conversion since users will find the products they want more quickly   \n",
       "1                                                       Launch your own delivery service. This will shorten delivery time   \n",
       "5                                                     Add a customer review page. This will increase the number of orders   \n",
       "4                                        Change the background color on the main page. This will increase user engagement   \n",
       "\n",
       "    RICE  \n",
       "7  112.0  \n",
       "2   56.0  \n",
       "0   40.0  \n",
       "6   40.0  \n",
       "8   16.2  \n",
       "3    9.0  \n",
       "1    4.0  \n",
       "5    4.0  \n",
       "4    3.0  "
      ]
     },
     "metadata": {},
     "output_type": "display_data"
    }
   ],
   "source": [
    "hypotheses['RICE'] = hypotheses['reach'] * hypotheses['impact'] * hypotheses['confidence'] / hypotheses['effort']\n",
    "display(hypotheses[['hypothesis', 'RICE']].sort_values(by=['RICE'], ascending=False))"
   ]
  },
  {
   "cell_type": "markdown",
   "id": "a76f1e42",
   "metadata": {},
   "source": [
    "## conclussion\n",
    "* The difference between the `RICE` and `ICE` methods are the `reach` component. \n",
    "\n",
    "\n",
    "* We can see that `first` hypothesys in `RICE` is the `third` on `ICE` and the `first` on `ICE` is the `fifth` on `RICE`.\n",
    "\n",
    "\n",
    "* Meaning that for example in the first hypothesys on `ICE` even though it has very high impact and confident factors it has a very low reach, probably because we are talking about people's birthdays witch accurs only once per year. And therefore have a low priority on `RICE`."
   ]
  },
  {
   "cell_type": "markdown",
   "id": "e6011a58",
   "metadata": {},
   "source": [
    "# Part 2. A/B Test Analysis"
   ]
  },
  {
   "cell_type": "markdown",
   "id": "d7e81795",
   "metadata": {},
   "source": [
    "## Graph cumulative revenue by group. Make conclusions and conjectures."
   ]
  },
  {
   "cell_type": "code",
   "execution_count": 23,
   "id": "82a5d878",
   "metadata": {},
   "outputs": [
    {
     "data": {
      "text/html": [
       "<div>\n",
       "<style scoped>\n",
       "    .dataframe tbody tr th:only-of-type {\n",
       "        vertical-align: middle;\n",
       "    }\n",
       "\n",
       "    .dataframe tbody tr th {\n",
       "        vertical-align: top;\n",
       "    }\n",
       "\n",
       "    .dataframe thead th {\n",
       "        text-align: right;\n",
       "    }\n",
       "</style>\n",
       "<table border=\"1\" class=\"dataframe\">\n",
       "  <thead>\n",
       "    <tr style=\"text-align: right;\">\n",
       "      <th></th>\n",
       "      <th>date</th>\n",
       "      <th>group</th>\n",
       "      <th>visits</th>\n",
       "    </tr>\n",
       "  </thead>\n",
       "  <tbody>\n",
       "    <tr>\n",
       "      <th>0</th>\n",
       "      <td>2019-08-01</td>\n",
       "      <td>A</td>\n",
       "      <td>719</td>\n",
       "    </tr>\n",
       "  </tbody>\n",
       "</table>\n",
       "</div>"
      ],
      "text/plain": [
       "        date group  visits\n",
       "0 2019-08-01     A     719"
      ]
     },
     "execution_count": 23,
     "metadata": {},
     "output_type": "execute_result"
    }
   ],
   "source": [
    "visits.head(1)"
   ]
  },
  {
   "cell_type": "code",
   "execution_count": 24,
   "id": "d4533e94",
   "metadata": {},
   "outputs": [
    {
     "data": {
      "text/html": [
       "<div>\n",
       "<style scoped>\n",
       "    .dataframe tbody tr th:only-of-type {\n",
       "        vertical-align: middle;\n",
       "    }\n",
       "\n",
       "    .dataframe tbody tr th {\n",
       "        vertical-align: top;\n",
       "    }\n",
       "\n",
       "    .dataframe thead th {\n",
       "        text-align: right;\n",
       "    }\n",
       "</style>\n",
       "<table border=\"1\" class=\"dataframe\">\n",
       "  <thead>\n",
       "    <tr style=\"text-align: right;\">\n",
       "      <th></th>\n",
       "      <th>transactionId</th>\n",
       "      <th>visitorId</th>\n",
       "      <th>date</th>\n",
       "      <th>revenue</th>\n",
       "      <th>group</th>\n",
       "    </tr>\n",
       "  </thead>\n",
       "  <tbody>\n",
       "    <tr>\n",
       "      <th>0</th>\n",
       "      <td>3667963787</td>\n",
       "      <td>3312258926</td>\n",
       "      <td>2019-08-15</td>\n",
       "      <td>30.4</td>\n",
       "      <td>B</td>\n",
       "    </tr>\n",
       "  </tbody>\n",
       "</table>\n",
       "</div>"
      ],
      "text/plain": [
       "   transactionId   visitorId       date  revenue group\n",
       "0     3667963787  3312258926 2019-08-15     30.4     B"
      ]
     },
     "execution_count": 24,
     "metadata": {},
     "output_type": "execute_result"
    }
   ],
   "source": [
    "orders.head(1)"
   ]
  },
  {
   "cell_type": "code",
   "execution_count": 25,
   "id": "d8b98315",
   "metadata": {
    "scrolled": true
   },
   "outputs": [
    {
     "name": "stdout",
     "output_type": "stream",
     "text": [
      "        date group  orders  buyers  revenue  visits\n",
      "0 2019-08-01     A      23      19   2266.6     719\n",
      "1 2019-08-01     B      17      17    967.2     713\n",
      "2 2019-08-02     A      42      36   3734.9    1338\n",
      "3 2019-08-02     B      40      39   3535.3    1294\n",
      "4 2019-08-03     A      66      60   5550.1    1845\n"
     ]
    }
   ],
   "source": [
    "# building an array with unique paired date-group values\n",
    "datesGroups = orders[['date','group']].drop_duplicates()\n",
    "\n",
    "# getting aggregated cumulative daily data on orders \n",
    "ordersAggregated = datesGroups.apply(lambda x: orders[np.logical_and(orders['date'] <= x['date'], orders['group'] == x['group'])].agg({'date' : 'max', 'group' : 'max', 'transactionId' : pd.Series.nunique, 'visitorId' : pd.Series.nunique, 'revenue' : 'sum'}), axis=1).sort_values(by=['date','group'])\n",
    "\n",
    "# getting aggregated cumulative daily data on visits  \n",
    "visitsAggregated = datesGroups.apply(lambda x: visits[np.logical_and(visits['date'] <= x['date'], visits['group'] == x['group'])].agg({'date' : 'max', 'group' : 'max', 'visits' : 'sum'}), axis=1).sort_values(by=['date','group'])\n",
    "\n",
    "# merging the two tables into one and giving its columns descriptive names\n",
    "cumulativeData = ordersAggregated.merge(visitsAggregated, left_on=['date', 'group'], right_on=['date', 'group'])\n",
    "cumulativeData.columns = ['date', 'group', 'orders', 'buyers', 'revenue', 'visits']\n",
    "\n",
    "print(cumulativeData.head(5))"
   ]
  },
  {
   "cell_type": "code",
   "execution_count": 26,
   "id": "3e2ab36a",
   "metadata": {},
   "outputs": [
    {
     "data": {
      "image/png": "[encoded data removed]",
      "text/plain": [
       "<Figure size 1080x432 with 1 Axes>"
      ]
     },
     "metadata": {
      "needs_background": "light"
     },
     "output_type": "display_data"
    }
   ],
   "source": [
    "\n",
    "# DataFrame with cumulative orders and cumulative revenue by day, group A\n",
    "cumulativeRevenueA = cumulativeData[cumulativeData['group']=='A'][['date','revenue', 'orders']]\n",
    "\n",
    "# DataFrame with cumulative orders and cumulative revenue by day, group B\n",
    "cumulativeRevenueB = cumulativeData[cumulativeData['group']=='B'][['date','revenue', 'orders']]\n",
    "\n",
    "#changing figure size\n",
    "plt.rcParams[\"figure.figsize\"] = (15,6)\n",
    "# Plotting the group A revenue graph\n",
    "plt.plot(cumulativeRevenueA['date'], cumulativeRevenueA['revenue'], label='A')\n",
    "# Plotting the group B revenue graph\n",
    "plt.plot(cumulativeRevenueB['date'], cumulativeRevenueB['revenue'], label='B')\n",
    "plt.title('cumulative revenue by group',fontsize =16 )\n",
    "plt.xlabel('Date', fontsize=14)\n",
    "plt.ylabel('Revenue', fontsize=14)\n",
    "plt.legend(title='Group')\n",
    "plt.grid()"
   ]
  },
  {
   "cell_type": "markdown",
   "id": "3c5b9009",
   "metadata": {},
   "source": [
    "### Graph analysis and conclussions:\n",
    "* X axis = time in days, Y axis = comulative revenue in Dollars, Blue line = group A, orange line = group B.\n",
    "\n",
    "\n",
    "*  The revenue is incresing through the whole month, its good.\n",
    "\n",
    "\n",
    "* The revenue of group `A` has a small spike around the 13th and `B` has a big spike around the 18th of the month, this could imply a jump in the number of orders or very expensive orders."
   ]
  },
  {
   "cell_type": "markdown",
   "id": "9ea7a353",
   "metadata": {},
   "source": [
    "## Graph cumulative average order size by group. Make conclusions and conjectures."
   ]
  },
  {
   "cell_type": "code",
   "execution_count": 27,
   "id": "2db092c4",
   "metadata": {},
   "outputs": [
    {
     "data": {
      "text/plain": [
       "<matplotlib.lines.Line2D at 0x225ea0affd0>"
      ]
     },
     "execution_count": 27,
     "metadata": {},
     "output_type": "execute_result"
    },
    {
     "data": {
      "image/png": "[encoded data removed]",
      "text/plain": [
       "<Figure size 1080x432 with 1 Axes>"
      ]
     },
     "metadata": {
      "needs_background": "light"
     },
     "output_type": "display_data"
    }
   ],
   "source": [
    "plt.plot(cumulativeRevenueA['date'], cumulativeRevenueA['revenue']/cumulativeRevenueA['orders'], label='A')\n",
    "plt.plot(cumulativeRevenueB['date'], cumulativeRevenueB['revenue']/cumulativeRevenueB['orders'], label='B')\n",
    "plt.title('cumulative average order size by group',fontsize =16 )\n",
    "plt.xlabel('Date', fontsize=14)\n",
    "plt.ylabel('Order size', fontsize=14)\n",
    "plt.legend(title='Group')\n",
    "plt.grid()\n",
    "plt.axhline(y=0, color='black', linestyle='--',label='Y=0')\n"
   ]
  },
  {
   "cell_type": "markdown",
   "id": "5d77ae71",
   "metadata": {},
   "source": [
    "### Graph analysis and conclussions:\n",
    "* X axis = time in days, Y axis = comulative average order size in Dollars, Blue line = group A, orange line = group B.\n",
    "\n",
    "\n",
    "\n",
    "*  Group A has a peak around the 13th it explains the peak in the previous graph, it may be due to large expansive orders. After it it stabilize and go up in the end.\n",
    "\n",
    "\n",
    "* Group B start with a surge and stablize and after has another peak (big surge) around the 18th, it explains the peak in the previous graph, it may be due to large expansive orders. After it it stabilize but stat declining.\n"
   ]
  },
  {
   "cell_type": "markdown",
   "id": "5910fb6b",
   "metadata": {},
   "source": [
    "## Graph the relative difference in cumulative average order size for group B compared with group A. Make conclusions and conjectures."
   ]
  },
  {
   "cell_type": "code",
   "execution_count": 28,
   "id": "63bba88d",
   "metadata": {},
   "outputs": [
    {
     "data": {
      "image/png": "[encoded data removed]",
      "text/plain": [
       "<Figure size 1080x432 with 1 Axes>"
      ]
     },
     "metadata": {
      "needs_background": "light"
     },
     "output_type": "display_data"
    }
   ],
   "source": [
    "# gathering the data into one DataFrame\n",
    "mergedCumulativeRevenue = cumulativeRevenueA.merge(cumulativeRevenueB, left_on='date', right_on='date', how='left', suffixes=['A', 'B'])\n",
    "\n",
    "# plotting a relative difference graph for the average purchase sizes\n",
    "plt.plot(mergedCumulativeRevenue['date'], (mergedCumulativeRevenue['revenueB']/mergedCumulativeRevenue['ordersB'])/(mergedCumulativeRevenue['revenueA']/mergedCumulativeRevenue['ordersA'])-1)\n",
    "\n",
    "# adding the X axis\n",
    "plt.axhline(y=0, color='black', linestyle='--',label='Y=0')\n",
    "# ploting titles\n",
    "plt.title('relative difference in cumulative average order size B/A',fontsize =16 )\n",
    "plt.xlabel('Date', fontsize=14)\n",
    "plt.ylabel('relative difference in order size', fontsize=14)\n",
    "plt.legend()\n",
    "plt.grid()\n"
   ]
  },
  {
   "cell_type": "markdown",
   "id": "5c6ffdde",
   "metadata": {},
   "source": [
    "### Graph analysis and conclussions:\n",
    "* X axis = time in days, Y axis = relative difference in order size (B/A), dashed line = 0 relative difference (Y=0).\n",
    "\n",
    "\n",
    "* As expected we see spikes of the difference at several points (same points we saw before). it means there are some very big orders and outliers."
   ]
  },
  {
   "cell_type": "markdown",
   "id": "e8b29248",
   "metadata": {},
   "source": [
    "## Calculate each group's conversion rate as the ratio of orders to the number of visits for each day. Plot the daily conversion rates of the two groups and describe the difference. Draw conclusions and make conjectures."
   ]
  },
  {
   "cell_type": "code",
   "execution_count": 29,
   "id": "cbf10eea",
   "metadata": {},
   "outputs": [
    {
     "data": {
      "text/html": [
       "<div>\n",
       "<style scoped>\n",
       "    .dataframe tbody tr th:only-of-type {\n",
       "        vertical-align: middle;\n",
       "    }\n",
       "\n",
       "    .dataframe tbody tr th {\n",
       "        vertical-align: top;\n",
       "    }\n",
       "\n",
       "    .dataframe thead th {\n",
       "        text-align: right;\n",
       "    }\n",
       "</style>\n",
       "<table border=\"1\" class=\"dataframe\">\n",
       "  <thead>\n",
       "    <tr style=\"text-align: right;\">\n",
       "      <th></th>\n",
       "      <th>date</th>\n",
       "      <th>group</th>\n",
       "      <th>orders</th>\n",
       "      <th>buyers</th>\n",
       "      <th>revenue</th>\n",
       "      <th>visits</th>\n",
       "      <th>conversion</th>\n",
       "    </tr>\n",
       "  </thead>\n",
       "  <tbody>\n",
       "    <tr>\n",
       "      <th>0</th>\n",
       "      <td>2019-08-01</td>\n",
       "      <td>A</td>\n",
       "      <td>23</td>\n",
       "      <td>19</td>\n",
       "      <td>2266.6</td>\n",
       "      <td>719</td>\n",
       "      <td>0.031989</td>\n",
       "    </tr>\n",
       "    <tr>\n",
       "      <th>1</th>\n",
       "      <td>2019-08-01</td>\n",
       "      <td>B</td>\n",
       "      <td>17</td>\n",
       "      <td>17</td>\n",
       "      <td>967.2</td>\n",
       "      <td>713</td>\n",
       "      <td>0.023843</td>\n",
       "    </tr>\n",
       "    <tr>\n",
       "      <th>2</th>\n",
       "      <td>2019-08-02</td>\n",
       "      <td>A</td>\n",
       "      <td>42</td>\n",
       "      <td>36</td>\n",
       "      <td>3734.9</td>\n",
       "      <td>1338</td>\n",
       "      <td>0.031390</td>\n",
       "    </tr>\n",
       "    <tr>\n",
       "      <th>3</th>\n",
       "      <td>2019-08-02</td>\n",
       "      <td>B</td>\n",
       "      <td>40</td>\n",
       "      <td>39</td>\n",
       "      <td>3535.3</td>\n",
       "      <td>1294</td>\n",
       "      <td>0.030912</td>\n",
       "    </tr>\n",
       "    <tr>\n",
       "      <th>4</th>\n",
       "      <td>2019-08-03</td>\n",
       "      <td>A</td>\n",
       "      <td>66</td>\n",
       "      <td>60</td>\n",
       "      <td>5550.1</td>\n",
       "      <td>1845</td>\n",
       "      <td>0.035772</td>\n",
       "    </tr>\n",
       "  </tbody>\n",
       "</table>\n",
       "</div>"
      ],
      "text/plain": [
       "        date group  orders  buyers  revenue  visits  conversion\n",
       "0 2019-08-01     A      23      19   2266.6     719    0.031989\n",
       "1 2019-08-01     B      17      17    967.2     713    0.023843\n",
       "2 2019-08-02     A      42      36   3734.9    1338    0.031390\n",
       "3 2019-08-02     B      40      39   3535.3    1294    0.030912\n",
       "4 2019-08-03     A      66      60   5550.1    1845    0.035772"
      ]
     },
     "execution_count": 29,
     "metadata": {},
     "output_type": "execute_result"
    }
   ],
   "source": [
    "# calculating cumulative conversion\n",
    "cumulativeData['conversion'] = (cumulativeData['orders']/cumulativeData['visits'])\n",
    "cumulativeData.head()"
   ]
  },
  {
   "cell_type": "code",
   "execution_count": 30,
   "id": "861e42bc",
   "metadata": {},
   "outputs": [
    {
     "data": {
      "image/png": "[encoded data removed]",
      "text/plain": [
       "<Figure size 1080x432 with 1 Axes>"
      ]
     },
     "metadata": {
      "needs_background": "light"
     },
     "output_type": "display_data"
    }
   ],
   "source": [
    "# selecting data on group A \n",
    "cumulativeDataA = cumulativeData[cumulativeData['group']=='A']\n",
    "\n",
    "# selecting data on group B\n",
    "cumulativeDataB = cumulativeData[cumulativeData['group']=='B']\n",
    "\n",
    "# plotting the graphs\n",
    "plt.plot(cumulativeDataA['date'], cumulativeDataA['conversion'], label='A')\n",
    "plt.plot(cumulativeDataB['date'], cumulativeDataB['conversion'], label='B')\n",
    "plt.legend(title = 'Group')\n",
    "plt.title('cumulative daily conversion rates',fontsize =16 )\n",
    "plt.xlabel('Date', fontsize=14)\n",
    "plt.ylabel('cumulative conversion rates (%)', fontsize=14)\n",
    "plt.axhline(y=0, color='black', linestyle='--',label='Y=0')\n",
    "plt.grid()\n"
   ]
  },
  {
   "cell_type": "markdown",
   "id": "5139c6e3",
   "metadata": {},
   "source": [
    "### Graph analysis\n",
    "\n",
    "* X axis = time in days, Y axis = cumulative conversion rates percentage, Blue line = group A, orange line = group B.\n",
    "\n",
    "\n",
    "* Group A covertion starts around 3.2% jumps to 3.6% and then drops to 2.5% and stabilize there.\n",
    "\n",
    "\n",
    "* Group B climbs to 3.1% and then drops and climb again until it stbilize around 2.9%."
   ]
  },
  {
   "cell_type": "code",
   "execution_count": 31,
   "id": "a2ec6a81",
   "metadata": {},
   "outputs": [
    {
     "name": "stderr",
     "output_type": "stream",
     "text": [
      "No handles with labels found to put in legend.\n"
     ]
    },
    {
     "data": {
      "image/png": "[encoded data removed]",
      "text/plain": [
       "<Figure size 1080x432 with 1 Axes>"
      ]
     },
     "metadata": {
      "needs_background": "light"
     },
     "output_type": "display_data"
    }
   ],
   "source": [
    "mergedCumulativeConversions = cumulativeDataA[['date','conversion']].merge(cumulativeDataB[['date','conversion']], left_on='date', right_on='date', how='left', suffixes=['A', 'B'])\n",
    "\n",
    "plt.plot(mergedCumulativeConversions['date'], mergedCumulativeConversions['conversionB']/mergedCumulativeConversions['conversionA']-1)\n",
    "plt.legend()\n",
    "\n",
    "plt.axhline(y=0, color='black', linestyle='--', label='Y=0')\n",
    "plt.axhline(y=-0.1, color='grey', linestyle='--', label='Y=-0.1')\n",
    "plt.legend()\n",
    "plt.title('cumulative conversion rates difference by day',fontsize =16 )\n",
    "plt.xlabel('Date', fontsize=14)\n",
    "plt.ylabel('cumulative conversion rates difference (B/A)', fontsize=14)\n",
    "plt.grid()"
   ]
  },
  {
   "cell_type": "markdown",
   "id": "c396cf84",
   "metadata": {},
   "source": [
    "### Graph analysis and conclusions:\n",
    "\n",
    "\n",
    "* At the beginig of the test group A was ahed but after a week group B took ahed by 0.2%.\n",
    "\n",
    "\n",
    "* It may seem like group B is better at this point but we need to look for anomalies."
   ]
  },
  {
   "cell_type": "markdown",
   "id": "c444c95e",
   "metadata": {},
   "source": [
    "## Plot a scatter chart of the number of orders per user. Make conclusions and conjectures."
   ]
  },
  {
   "cell_type": "code",
   "execution_count": 32,
   "id": "3a3c7bdf",
   "metadata": {},
   "outputs": [
    {
     "data": {
      "text/html": [
       "<div>\n",
       "<style scoped>\n",
       "    .dataframe tbody tr th:only-of-type {\n",
       "        vertical-align: middle;\n",
       "    }\n",
       "\n",
       "    .dataframe tbody tr th {\n",
       "        vertical-align: top;\n",
       "    }\n",
       "\n",
       "    .dataframe thead th {\n",
       "        text-align: right;\n",
       "    }\n",
       "</style>\n",
       "<table border=\"1\" class=\"dataframe\">\n",
       "  <thead>\n",
       "    <tr style=\"text-align: right;\">\n",
       "      <th></th>\n",
       "      <th>transactionId</th>\n",
       "      <th>visitorId</th>\n",
       "      <th>date</th>\n",
       "      <th>revenue</th>\n",
       "      <th>group</th>\n",
       "    </tr>\n",
       "  </thead>\n",
       "  <tbody>\n",
       "    <tr>\n",
       "      <th>0</th>\n",
       "      <td>3667963787</td>\n",
       "      <td>3312258926</td>\n",
       "      <td>2019-08-15</td>\n",
       "      <td>30.4</td>\n",
       "      <td>B</td>\n",
       "    </tr>\n",
       "  </tbody>\n",
       "</table>\n",
       "</div>"
      ],
      "text/plain": [
       "   transactionId   visitorId       date  revenue group\n",
       "0     3667963787  3312258926 2019-08-15     30.4     B"
      ]
     },
     "execution_count": 32,
     "metadata": {},
     "output_type": "execute_result"
    }
   ],
   "source": [
    "orders.head(1)"
   ]
  },
  {
   "cell_type": "code",
   "execution_count": 33,
   "id": "3990825f",
   "metadata": {},
   "outputs": [
    {
     "name": "stdout",
     "output_type": "stream",
     "text": [
      "         userId  orders\n",
      "908  3967698036       3\n",
      "55    249864742       3\n",
      "478  2108163459       3\n",
      "687  2988190573       3\n",
      "890  3908431265       3\n",
      "138   611059232       3\n",
      "632  2742574263       3\n",
      "157   678354126       2\n",
      "323  1404560065       2\n",
      "452  1985475298       2\n"
     ]
    }
   ],
   "source": [
    "# making table for number of orders per user\n",
    "ordersByUsers = (\n",
    "    orders.drop(['group', 'revenue', 'date'], axis=1)\n",
    "    .groupby('visitorId', as_index=False)\n",
    "    .agg({'transactionId': pd.Series.nunique})\n",
    ")\n",
    "\n",
    "ordersByUsers.columns = ['userId', 'orders']\n",
    "\n",
    "print(ordersByUsers.sort_values(by='orders', ascending=False).head(10))"
   ]
  },
  {
   "cell_type": "code",
   "execution_count": 34,
   "id": "9efa6e9f",
   "metadata": {},
   "outputs": [
    {
     "data": {
      "text/plain": [
       "Text(0.5, 1.0, 'Number of orders per user')"
      ]
     },
     "execution_count": 34,
     "metadata": {},
     "output_type": "execute_result"
    },
    {
     "data": {
      "image/png": "[encoded data removed]",
      "text/plain": [
       "<Figure size 1080x432 with 1 Axes>"
      ]
     },
     "metadata": {
      "needs_background": "light"
     },
     "output_type": "display_data"
    }
   ],
   "source": [
    "x_values = pd.Series(range(0,len(ordersByUsers)))\n",
    "plt.scatter(x_values, ordersByUsers['orders'])\n",
    "plt.title('Number of orders per user',fontsize =16 )"
   ]
  },
  {
   "cell_type": "markdown",
   "id": "bd48f0aa",
   "metadata": {},
   "source": [
    "### Conclussions:\n",
    "\n",
    "* Most of the users made one order, some made 2 and vey litle made 3. we can't know yet if they are outliers."
   ]
  },
  {
   "cell_type": "markdown",
   "id": "76808fa4",
   "metadata": {},
   "source": [
    "## Calculate the 95th and 99th percentiles for the number of orders per user. Define the point at which a data point becomes an anomaly."
   ]
  },
  {
   "cell_type": "code",
   "execution_count": 35,
   "id": "fbee98f1",
   "metadata": {},
   "outputs": [
    {
     "name": "stdout",
     "output_type": "stream",
     "text": [
      "[1. 2.]\n"
     ]
    }
   ],
   "source": [
    "print(np.percentile(ordersByUsers['orders'], [ 95, 99]))"
   ]
  },
  {
   "cell_type": "code",
   "execution_count": 36,
   "id": "e3edbc48",
   "metadata": {},
   "outputs": [],
   "source": [
    "orders_point = 1 "
   ]
  },
  {
   "cell_type": "markdown",
   "id": "f6c32fac",
   "metadata": {},
   "source": [
    "### conclussion:\n",
    "\n",
    "* only 5% of the users made more than 1 order, and only 1% of the users made more than 2 orders.\n",
    "\n",
    "\n",
    "* I will set 1 order per user as the threshhold for normal data."
   ]
  },
  {
   "cell_type": "markdown",
   "id": "26bf1b0f",
   "metadata": {},
   "source": [
    "## Plot a scatter chart of order prices. Make conclusions and conjectures"
   ]
  },
  {
   "cell_type": "code",
   "execution_count": 37,
   "id": "72c65d9d",
   "metadata": {},
   "outputs": [
    {
     "data": {
      "text/plain": [
       "Text(0.5, 1.0, 'Order prices')"
      ]
     },
     "execution_count": 37,
     "metadata": {},
     "output_type": "execute_result"
    },
    {
     "data": {
      "image/png": "[encoded data removed]",
      "text/plain": [
       "<Figure size 1080x432 with 1 Axes>"
      ]
     },
     "metadata": {
      "needs_background": "light"
     },
     "output_type": "display_data"
    }
   ],
   "source": [
    "x_values = pd.Series(range(0, len(orders['revenue'])))\n",
    "plt.scatter(x_values, orders['revenue'])\n",
    "plt.title('Order prices',fontsize =16 )"
   ]
  },
  {
   "cell_type": "code",
   "execution_count": 38,
   "id": "88a45730",
   "metadata": {},
   "outputs": [],
   "source": [
    "#creating datra set without extrim revenue outliers\n",
    "no_outliers_rev = orders[orders['revenue'] < 5000]"
   ]
  },
  {
   "cell_type": "code",
   "execution_count": 39,
   "id": "7175b8de",
   "metadata": {},
   "outputs": [
    {
     "data": {
      "text/plain": [
       "Text(0.5, 1.0, 'Order prices')"
      ]
     },
     "execution_count": 39,
     "metadata": {},
     "output_type": "execute_result"
    },
    {
     "data": {
      "image/png": "[encoded data removed]",
      "text/plain": [
       "<Figure size 1080x432 with 1 Axes>"
      ]
     },
     "metadata": {
      "needs_background": "light"
     },
     "output_type": "display_data"
    }
   ],
   "source": [
    "# ploting new scatter plot withput outliers\n",
    "x_values = pd.Series(range(0, len(no_outliers_rev['revenue'])))\n",
    "plt.scatter(x_values, no_outliers_rev['revenue'])\n",
    "plt.title('Order prices',fontsize =16 )"
   ]
  },
  {
   "cell_type": "markdown",
   "id": "38208bc9",
   "metadata": {},
   "source": [
    "### conclussion:\n",
    "* the majority of the orders are less than 1000 Dollars, there is one huge order (20000) that pulls everything up. defenetly an outlier."
   ]
  },
  {
   "cell_type": "markdown",
   "id": "a9310721",
   "metadata": {},
   "source": [
    "## Calculate the 95th and 99th percentiles of order prices. Define the point at which a data point becomes an anomaly."
   ]
  },
  {
   "cell_type": "code",
   "execution_count": 40,
   "id": "0967fc5b",
   "metadata": {},
   "outputs": [
    {
     "data": {
      "text/plain": [
       "414.275"
      ]
     },
     "execution_count": 40,
     "metadata": {},
     "output_type": "execute_result"
    }
   ],
   "source": [
    "revenue_point = np.percentile(orders['revenue'], 95)\n",
    "revenue_point"
   ]
  },
  {
   "cell_type": "markdown",
   "id": "e40a9710",
   "metadata": {},
   "source": [
    "### conclussion:\n",
    "\n",
    "* 5% of the orders are more expensive than 414 Dollars.\n",
    "\n",
    "\n",
    "* 1% of the orders are more expensive than 830 Dollars.\n",
    "\n",
    "\n",
    "* The point that define anomaly is: 414.275 Dollars"
   ]
  },
  {
   "cell_type": "markdown",
   "id": "1330aed3",
   "metadata": {},
   "source": [
    "## Find the statistical significance of the difference in conversion between the groups using the raw data. Make conclusions and conjectures."
   ]
  },
  {
   "cell_type": "code",
   "execution_count": 41,
   "id": "f5133a88",
   "metadata": {
    "scrolled": true
   },
   "outputs": [
    {
     "data": {
      "text/html": [
       "<div>\n",
       "<style scoped>\n",
       "    .dataframe tbody tr th:only-of-type {\n",
       "        vertical-align: middle;\n",
       "    }\n",
       "\n",
       "    .dataframe tbody tr th {\n",
       "        vertical-align: top;\n",
       "    }\n",
       "\n",
       "    .dataframe thead th {\n",
       "        text-align: right;\n",
       "    }\n",
       "</style>\n",
       "<table border=\"1\" class=\"dataframe\">\n",
       "  <thead>\n",
       "    <tr style=\"text-align: right;\">\n",
       "      <th></th>\n",
       "      <th>transactionId</th>\n",
       "      <th>visitorId</th>\n",
       "      <th>date</th>\n",
       "      <th>revenue</th>\n",
       "      <th>group</th>\n",
       "    </tr>\n",
       "  </thead>\n",
       "  <tbody>\n",
       "  </tbody>\n",
       "</table>\n",
       "</div>"
      ],
      "text/plain": [
       "Empty DataFrame\n",
       "Columns: [transactionId, visitorId, date, revenue, group]\n",
       "Index: []"
      ]
     },
     "execution_count": 41,
     "metadata": {},
     "output_type": "execute_result"
    }
   ],
   "source": [
    "orders.head(0)"
   ]
  },
  {
   "cell_type": "code",
   "execution_count": 42,
   "id": "af423cd7",
   "metadata": {},
   "outputs": [
    {
     "data": {
      "text/html": [
       "<div>\n",
       "<style scoped>\n",
       "    .dataframe tbody tr th:only-of-type {\n",
       "        vertical-align: middle;\n",
       "    }\n",
       "\n",
       "    .dataframe tbody tr th {\n",
       "        vertical-align: top;\n",
       "    }\n",
       "\n",
       "    .dataframe thead th {\n",
       "        text-align: right;\n",
       "    }\n",
       "</style>\n",
       "<table border=\"1\" class=\"dataframe\">\n",
       "  <thead>\n",
       "    <tr style=\"text-align: right;\">\n",
       "      <th></th>\n",
       "      <th>date</th>\n",
       "      <th>group</th>\n",
       "      <th>visits</th>\n",
       "    </tr>\n",
       "  </thead>\n",
       "  <tbody>\n",
       "    <tr>\n",
       "      <th>0</th>\n",
       "      <td>2019-08-01</td>\n",
       "      <td>A</td>\n",
       "      <td>719</td>\n",
       "    </tr>\n",
       "    <tr>\n",
       "      <th>1</th>\n",
       "      <td>2019-08-02</td>\n",
       "      <td>A</td>\n",
       "      <td>619</td>\n",
       "    </tr>\n",
       "    <tr>\n",
       "      <th>2</th>\n",
       "      <td>2019-08-03</td>\n",
       "      <td>A</td>\n",
       "      <td>507</td>\n",
       "    </tr>\n",
       "    <tr>\n",
       "      <th>3</th>\n",
       "      <td>2019-08-04</td>\n",
       "      <td>A</td>\n",
       "      <td>717</td>\n",
       "    </tr>\n",
       "    <tr>\n",
       "      <th>4</th>\n",
       "      <td>2019-08-05</td>\n",
       "      <td>A</td>\n",
       "      <td>756</td>\n",
       "    </tr>\n",
       "  </tbody>\n",
       "</table>\n",
       "</div>"
      ],
      "text/plain": [
       "        date group  visits\n",
       "0 2019-08-01     A     719\n",
       "1 2019-08-02     A     619\n",
       "2 2019-08-03     A     507\n",
       "3 2019-08-04     A     717\n",
       "4 2019-08-05     A     756"
      ]
     },
     "execution_count": 42,
     "metadata": {},
     "output_type": "execute_result"
    }
   ],
   "source": [
    "visits.head(5)"
   ]
  },
  {
   "cell_type": "code",
   "execution_count": 43,
   "id": "c41f3669",
   "metadata": {},
   "outputs": [],
   "source": [
    "# creating orders by user data frames for each group\n",
    "ordersByUsersA = orders[orders['group']=='A'].groupby('visitorId', as_index=False).agg({'transactionId' : pd.Series.nunique})\n",
    "ordersByUsersA.columns = ['visitorId', 'orders']\n",
    "\n",
    "ordersByUsersB = orders[orders['group']=='B'].groupby('visitorId', as_index=False).agg({'transactionId' : pd.Series.nunique})\n",
    "ordersByUsersB.columns = ['visitorId', 'orders']\n",
    "\n",
    "#creating groups for the test\n",
    "sampleA = pd.concat([ordersByUsersA['orders'],pd.Series(0, index=np.arange(visits[visits['group']=='A']['visits'].sum() - len(ordersByUsersA['orders'])), name='orders')],axis=0)\n",
    "\n",
    "sampleB = pd.concat([ordersByUsersB['orders'],pd.Series(0, index=np.arange(visits[visits['group']=='B']['visits'].sum() - len(ordersByUsersB['orders'])), name='orders')],axis=0)\n",
    "\n"
   ]
  },
  {
   "cell_type": "code",
   "execution_count": 44,
   "id": "08356722",
   "metadata": {},
   "outputs": [],
   "source": [
    "#creating shpiro-wilk test function to check normal distribution\n",
    "def is_normal_dist(sample1,sample2,alpha=0.05):\n",
    "    sample1=sample1.dropna()\n",
    "    sample2=sample2.dropna()\n",
    "    p1_norm=stats.shapiro(sample1)[1]\n",
    "    p2_norm=stats.shapiro(sample2)[1]\n",
    "    if p1_norm > alpha and p2_norm>alpha:\n",
    "        print('Both normal, execute T-test')\n",
    "    else:\n",
    "        print('One or more samples are not normal, execute mann-whtney-u test')"
   ]
  },
  {
   "cell_type": "markdown",
   "id": "a339356d",
   "metadata": {},
   "source": [
    "### Hypotheses for normality test\n",
    "* H0 = the sample is normally distributed.\n",
    "* H1 = the sample is not distributed normally. \n",
    "* alpha = 0.05\n",
    "* I chose significant level of 95%."
   ]
  },
  {
   "cell_type": "code",
   "execution_count": 45,
   "id": "60a3985a",
   "metadata": {
    "scrolled": true
   },
   "outputs": [
    {
     "name": "stdout",
     "output_type": "stream",
     "text": [
      "One or more samples are not normal, execute mann-whtney-u test\n"
     ]
    },
    {
     "name": "stderr",
     "output_type": "stream",
     "text": [
      "C:\\anaconda3\\lib\\site-packages\\scipy\\stats\\morestats.py:1760: UserWarning: p-value may not be accurate for N > 5000.\n",
      "  warnings.warn(\"p-value may not be accurate for N > 5000.\")\n"
     ]
    }
   ],
   "source": [
    "#Testing for normality\n",
    "is_normal_dist(sampleA,sampleB)"
   ]
  },
  {
   "cell_type": "code",
   "execution_count": 46,
   "id": "c26099e4",
   "metadata": {},
   "outputs": [],
   "source": [
    "#creating man-whitney non-parametric test function\n",
    "def wilcoxon_test(sample1,sample2,alpha=0.05):\n",
    "    sample1=sample1.dropna()\n",
    "    sample2=sample2.dropna()\n",
    "    statist, p_value=stats.mannwhitneyu(sample1, sample2)\n",
    "    print(f'P-value: {p_value:.3f}')\n",
    "    if p_value<alpha:\n",
    "        print('Reject H0, there is a significant differnce between the groups')\n",
    "    else:\n",
    "        print('Fail to Reject H0, there is no significant differnce between the groups')\n",
    "    \n",
    "    print(f\"The relative differnce (B/A) is :{sample2.mean()/sample1.mean()-1:.3f}\")\n",
    "    "
   ]
  },
  {
   "cell_type": "markdown",
   "id": "976337e9",
   "metadata": {},
   "source": [
    "### Hypotheses for mann whitney test\n",
    "* H0 = The group are equal to each other.\n",
    "* H1 = The group are different from each other. \n",
    "* alpha = 0.05\n",
    "* I chose significant level of 95%."
   ]
  },
  {
   "cell_type": "code",
   "execution_count": 47,
   "id": "7308953a",
   "metadata": {
    "scrolled": true
   },
   "outputs": [
    {
     "name": "stdout",
     "output_type": "stream",
     "text": [
      "P-value: 0.011\n",
      "Reject H0, there is a significant differnce between the groups\n",
      "The relative differnce (B/A) is :0.160\n"
     ]
    }
   ],
   "source": [
    "#Testing mann_whitney\n",
    "wilcoxon_test(sampleA,sampleB)"
   ]
  },
  {
   "cell_type": "markdown",
   "id": "39e453da",
   "metadata": {},
   "source": [
    "### Conclussions:\n",
    "\n",
    "* The groups did not distributed normally therefore I had to use non parametric test.\n",
    "* The conversion rate of group `B` is significantly `higher` than group `A` (by 16%)."
   ]
  },
  {
   "cell_type": "markdown",
   "id": "217fb563",
   "metadata": {},
   "source": [
    "## Find the statistical significance of the difference in average order size between the groups using the raw data. Make conclusions and conjectures."
   ]
  },
  {
   "cell_type": "code",
   "execution_count": 48,
   "id": "769257b0",
   "metadata": {
    "scrolled": true
   },
   "outputs": [
    {
     "data": {
      "text/html": [
       "<div>\n",
       "<style scoped>\n",
       "    .dataframe tbody tr th:only-of-type {\n",
       "        vertical-align: middle;\n",
       "    }\n",
       "\n",
       "    .dataframe tbody tr th {\n",
       "        vertical-align: top;\n",
       "    }\n",
       "\n",
       "    .dataframe thead th {\n",
       "        text-align: right;\n",
       "    }\n",
       "</style>\n",
       "<table border=\"1\" class=\"dataframe\">\n",
       "  <thead>\n",
       "    <tr style=\"text-align: right;\">\n",
       "      <th></th>\n",
       "      <th>transactionId</th>\n",
       "      <th>visitorId</th>\n",
       "      <th>date</th>\n",
       "      <th>revenue</th>\n",
       "      <th>group</th>\n",
       "    </tr>\n",
       "  </thead>\n",
       "  <tbody>\n",
       "    <tr>\n",
       "      <th>0</th>\n",
       "      <td>3667963787</td>\n",
       "      <td>3312258926</td>\n",
       "      <td>2019-08-15</td>\n",
       "      <td>30.4</td>\n",
       "      <td>B</td>\n",
       "    </tr>\n",
       "    <tr>\n",
       "      <th>1</th>\n",
       "      <td>2804400009</td>\n",
       "      <td>3642806036</td>\n",
       "      <td>2019-08-15</td>\n",
       "      <td>15.2</td>\n",
       "      <td>B</td>\n",
       "    </tr>\n",
       "    <tr>\n",
       "      <th>3</th>\n",
       "      <td>3797467345</td>\n",
       "      <td>1196621759</td>\n",
       "      <td>2019-08-15</td>\n",
       "      <td>155.1</td>\n",
       "      <td>B</td>\n",
       "    </tr>\n",
       "    <tr>\n",
       "      <th>4</th>\n",
       "      <td>2282983706</td>\n",
       "      <td>2322279887</td>\n",
       "      <td>2019-08-15</td>\n",
       "      <td>40.5</td>\n",
       "      <td>B</td>\n",
       "    </tr>\n",
       "    <tr>\n",
       "      <th>5</th>\n",
       "      <td>182168103</td>\n",
       "      <td>935554773</td>\n",
       "      <td>2019-08-15</td>\n",
       "      <td>35.0</td>\n",
       "      <td>B</td>\n",
       "    </tr>\n",
       "  </tbody>\n",
       "</table>\n",
       "</div>"
      ],
      "text/plain": [
       "   transactionId   visitorId       date  revenue group\n",
       "0     3667963787  3312258926 2019-08-15     30.4     B\n",
       "1     2804400009  3642806036 2019-08-15     15.2     B\n",
       "3     3797467345  1196621759 2019-08-15    155.1     B\n",
       "4     2282983706  2322279887 2019-08-15     40.5     B\n",
       "5      182168103   935554773 2019-08-15     35.0     B"
      ]
     },
     "execution_count": 48,
     "metadata": {},
     "output_type": "execute_result"
    }
   ],
   "source": [
    "orders.head()"
   ]
  },
  {
   "cell_type": "markdown",
   "id": "255c8aa9",
   "metadata": {},
   "source": [
    "### Hypotheses for normality test\n",
    "* H0 = the sample is normally distributed.\n",
    "* H1 = the sample is not distributed normally. \n",
    "* alpha = 0.05\n",
    "* I chose significant level of 95%."
   ]
  },
  {
   "cell_type": "code",
   "execution_count": 49,
   "id": "aabaa1ea",
   "metadata": {
    "scrolled": true
   },
   "outputs": [
    {
     "name": "stdout",
     "output_type": "stream",
     "text": [
      "One or more samples are not normal, execute mann-whtney-u test\n"
     ]
    }
   ],
   "source": [
    "#Testing for normality\n",
    "is_normal_dist(orders[orders['group']=='A']['revenue'],orders[orders['group']=='B']['revenue'])"
   ]
  },
  {
   "cell_type": "markdown",
   "id": "28461e71",
   "metadata": {},
   "source": [
    "### Hypotheses for mann whitney test\n",
    "* H0 = The group are equal to each other.\n",
    "* H1 = The group are different from each other. \n",
    "* alpha = 0.05\n",
    "* I chose significant level of 95%."
   ]
  },
  {
   "cell_type": "code",
   "execution_count": 50,
   "id": "fb5fa836",
   "metadata": {},
   "outputs": [
    {
     "name": "stdout",
     "output_type": "stream",
     "text": [
      "P-value: 0.862\n",
      "Fail to Reject H0, there is no significant differnce between the groups\n",
      "The relative differnce (B/A) is :0.278\n"
     ]
    }
   ],
   "source": [
    "#Testing mann_whitney\n",
    "wilcoxon_test(orders[orders['group']=='A']['revenue'],orders[orders['group']=='B']['revenue'])"
   ]
  },
  {
   "cell_type": "markdown",
   "id": "32e68c80",
   "metadata": {},
   "source": [
    "## conclussions:\n",
    "\n",
    "* There is no statisticaly significant differnce in the `average order size` between the groups.\n",
    "* based on those tests, the test is succesful and groop B is better!\n",
    "* waiting for further analysis..."
   ]
  },
  {
   "cell_type": "markdown",
   "id": "93603b31",
   "metadata": {},
   "source": [
    "## Find the statistical significance of the difference in conversion between the groups using the filtered data. Make conclusions and conjectures."
   ]
  },
  {
   "cell_type": "code",
   "execution_count": 51,
   "id": "928ca9b2",
   "metadata": {},
   "outputs": [
    {
     "name": "stdout",
     "output_type": "stream",
     "text": [
      "568     113298937\n",
      "1099    148427295\n",
      "928     204675465\n",
      "684     358944393\n",
      "36      366673373\n",
      "Name: visitorId, dtype: int64\n",
      "Number of abnormal users: 68\n"
     ]
    }
   ],
   "source": [
    "# Finding abnormal users:\n",
    "usersWithManyOrders = pd.concat([ordersByUsersA[ordersByUsersA['orders'] > orders_point]['visitorId'], ordersByUsersB[ordersByUsersB['orders'] > 4]['visitorId']], axis = 0)\n",
    "usersWithExpensiveOrders = orders[orders['revenue'] > revenue_point]['visitorId']\n",
    "abnormalUsers = pd.concat([usersWithManyOrders, usersWithExpensiveOrders], axis = 0).drop_duplicates().sort_values()\n",
    "print(abnormalUsers.head(5))\n",
    "print(f'Number of abnormal users: {len(abnormalUsers)}')"
   ]
  },
  {
   "cell_type": "code",
   "execution_count": 52,
   "id": "2a413678",
   "metadata": {},
   "outputs": [],
   "source": [
    "#Creating filtered data\n",
    "sampleAFiltered = pd.concat([ordersByUsersA[np.logical_not(ordersByUsersA['visitorId'].isin(abnormalUsers))]['orders'],pd.Series(0, index=np.arange(visits[visits['group']=='A']['visits'].sum() - len(ordersByUsersA['orders'])),name='orders')],axis=0)\n",
    "\n",
    "sampleBFiltered = pd.concat([ordersByUsersB[np.logical_not(ordersByUsersB['visitorId'].isin(abnormalUsers))]['orders'],pd.Series(0, index=np.arange(visits[visits['group']=='B']['visits'].sum() - len(ordersByUsersB['orders'])),name='orders')],axis=0)"
   ]
  },
  {
   "cell_type": "code",
   "execution_count": 53,
   "id": "54fd2474",
   "metadata": {},
   "outputs": [
    {
     "name": "stdout",
     "output_type": "stream",
     "text": [
      "P-value: 0.003\n",
      "Reject H0, there is a significant differnce between the groups\n",
      "The relative differnce (B/A) is :0.265\n"
     ]
    }
   ],
   "source": [
    "# Applying mann_whitney test to the filltered data (it is still not normaly distributed!)\n",
    "wilcoxon_test(sampleAFiltered,sampleBFiltered)"
   ]
  },
  {
   "cell_type": "markdown",
   "id": "e757b2d8",
   "metadata": {},
   "source": [
    "### Conclussion:\n",
    "\n",
    "* There is still a significant difference in conversion between the groups.\n",
    "\n",
    "\n",
    "* The relative difference in converssion grew from 16% to 28.6% after filtering abnormal users.\n"
   ]
  },
  {
   "cell_type": "markdown",
   "id": "d5ac426f",
   "metadata": {},
   "source": [
    "## Find the statistical significance of the difference in average order size between the groups using the filtered data. Make conclusions and conjectures."
   ]
  },
  {
   "cell_type": "code",
   "execution_count": 54,
   "id": "703bbdc0",
   "metadata": {},
   "outputs": [],
   "source": [
    "#creating filterd data\n",
    "sampA =orders[np.logical_and(\n",
    "        orders['group']=='A',\n",
    "        np.logical_not(orders['visitorId'].isin(abnormalUsers)))]['revenue']\n",
    "sampB =orders[np.logical_and(\n",
    "        orders['group']=='B',\n",
    "        np.logical_not(orders['visitorId'].isin(abnormalUsers)))]['revenue']"
   ]
  },
  {
   "cell_type": "code",
   "execution_count": 55,
   "id": "eb3d7eba",
   "metadata": {},
   "outputs": [
    {
     "name": "stdout",
     "output_type": "stream",
     "text": [
      "P-value: 0.889\n",
      "Fail to Reject H0, there is no significant differnce between the groups\n",
      "The relative differnce (B/A) is :-0.030\n"
     ]
    }
   ],
   "source": [
    "# mann-whitney test:\n",
    "wilcoxon_test(sampA, sampB)"
   ]
  },
  {
   "cell_type": "markdown",
   "id": "12c24b69",
   "metadata": {},
   "source": [
    "### conclussions:\n",
    "* The filtered data has the same test result as the unfilterd, there is no difference in average order size between groups."
   ]
  },
  {
   "cell_type": "markdown",
   "id": "29bdd42e",
   "metadata": {},
   "source": [
    "## Make a decision based on the test results."
   ]
  },
  {
   "cell_type": "markdown",
   "id": "92fe8263",
   "metadata": {},
   "source": [
    "* The conversion rate of group B is significantly higher then group A! the comulative conversion graph is supporting this as well.\n",
    "\n",
    "\n",
    "* The average order size of the two groups is simillar (has no significant differnce). In the graph we can see that if the test will continue the order sizes will become even more close!\n",
    "\n",
    "* If the order size is the same but the conversion rate is higher in `B` then it means that group `B` is more profitable because more visitors will become buyers with the same order size!\n",
    "\n",
    "\n",
    "* Based on these facts my decision is to stop the test and declare Group `B` as the leader."
   ]
  }
 ],
 "metadata": {
  "ExecuteTimeLog": [
   {
    "duration": 1146,
    "start_time": "2022-04-13T20:54:05.781Z"
   },
   {
    "duration": 271,
    "start_time": "2022-04-13T20:54:06.929Z"
   },
   {
    "duration": 12,
    "start_time": "2022-04-13T20:54:07.202Z"
   },
   {
    "duration": 11,
    "start_time": "2022-04-13T20:54:07.215Z"
   },
   {
    "duration": 6,
    "start_time": "2022-04-13T20:54:07.227Z"
   },
   {
    "duration": 11,
    "start_time": "2022-04-13T20:54:07.235Z"
   },
   {
    "duration": 20,
    "start_time": "2022-04-13T20:54:07.248Z"
   },
   {
    "duration": 3,
    "start_time": "2022-04-13T20:54:07.270Z"
   },
   {
    "duration": 5,
    "start_time": "2022-04-13T20:54:07.275Z"
   },
   {
    "duration": 10,
    "start_time": "2022-04-13T20:54:07.283Z"
   },
   {
    "duration": 32,
    "start_time": "2022-04-13T20:54:07.294Z"
   },
   {
    "duration": 7,
    "start_time": "2022-04-13T20:54:07.327Z"
   },
   {
    "duration": 8,
    "start_time": "2022-04-13T20:54:07.335Z"
   },
   {
    "duration": 12,
    "start_time": "2022-04-13T20:54:07.344Z"
   },
   {
    "duration": 9,
    "start_time": "2022-04-13T20:54:07.358Z"
   },
   {
    "duration": 5,
    "start_time": "2022-04-13T20:54:07.370Z"
   },
   {
    "duration": 10,
    "start_time": "2022-04-13T20:54:07.377Z"
   },
   {
    "duration": 110,
    "start_time": "2022-04-13T20:54:07.388Z"
   },
   {
    "duration": 0,
    "start_time": "2022-04-13T20:54:07.501Z"
   },
   {
    "duration": 0,
    "start_time": "2022-04-13T20:54:07.502Z"
   },
   {
    "duration": 0,
    "start_time": "2022-04-13T20:54:07.503Z"
   },
   {
    "duration": 0,
    "start_time": "2022-04-13T20:54:07.504Z"
   },
   {
    "duration": 0,
    "start_time": "2022-04-13T20:54:07.505Z"
   },
   {
    "duration": 0,
    "start_time": "2022-04-13T20:54:07.506Z"
   },
   {
    "duration": 0,
    "start_time": "2022-04-13T20:54:07.507Z"
   },
   {
    "duration": 0,
    "start_time": "2022-04-13T20:54:07.508Z"
   },
   {
    "duration": 0,
    "start_time": "2022-04-13T20:54:07.509Z"
   },
   {
    "duration": 0,
    "start_time": "2022-04-13T20:54:07.510Z"
   },
   {
    "duration": 0,
    "start_time": "2022-04-13T20:54:07.524Z"
   },
   {
    "duration": 0,
    "start_time": "2022-04-13T20:54:07.525Z"
   },
   {
    "duration": 0,
    "start_time": "2022-04-13T20:54:07.526Z"
   },
   {
    "duration": 0,
    "start_time": "2022-04-13T20:54:07.527Z"
   },
   {
    "duration": 0,
    "start_time": "2022-04-13T20:54:07.528Z"
   },
   {
    "duration": 0,
    "start_time": "2022-04-13T20:54:07.529Z"
   },
   {
    "duration": 0,
    "start_time": "2022-04-13T20:54:07.530Z"
   },
   {
    "duration": 0,
    "start_time": "2022-04-13T20:54:07.531Z"
   },
   {
    "duration": 0,
    "start_time": "2022-04-13T20:54:07.532Z"
   },
   {
    "duration": 0,
    "start_time": "2022-04-13T20:54:07.533Z"
   },
   {
    "duration": 0,
    "start_time": "2022-04-13T20:54:07.534Z"
   },
   {
    "duration": 0,
    "start_time": "2022-04-13T20:54:07.535Z"
   },
   {
    "duration": 0,
    "start_time": "2022-04-13T20:54:07.536Z"
   },
   {
    "duration": 0,
    "start_time": "2022-04-13T20:54:07.537Z"
   },
   {
    "duration": 0,
    "start_time": "2022-04-13T20:54:07.538Z"
   },
   {
    "duration": 0,
    "start_time": "2022-04-13T20:54:07.539Z"
   },
   {
    "duration": 0,
    "start_time": "2022-04-13T20:54:07.540Z"
   },
   {
    "duration": 0,
    "start_time": "2022-04-13T20:54:07.541Z"
   },
   {
    "duration": 0,
    "start_time": "2022-04-13T20:54:07.542Z"
   },
   {
    "duration": 0,
    "start_time": "2022-04-13T20:54:07.543Z"
   },
   {
    "duration": 0,
    "start_time": "2022-04-13T20:54:07.544Z"
   },
   {
    "duration": 0,
    "start_time": "2022-04-13T20:54:07.544Z"
   },
   {
    "duration": 0,
    "start_time": "2022-04-13T20:54:07.546Z"
   },
   {
    "duration": 0,
    "start_time": "2022-04-13T20:54:07.547Z"
   },
   {
    "duration": 0,
    "start_time": "2022-04-13T20:54:07.548Z"
   },
   {
    "duration": 0,
    "start_time": "2022-04-13T20:54:07.549Z"
   },
   {
    "duration": 973,
    "start_time": "2022-04-13T20:56:09.449Z"
   },
   {
    "duration": 179,
    "start_time": "2022-04-13T20:56:10.423Z"
   },
   {
    "duration": 60,
    "start_time": "2022-04-13T20:56:10.603Z"
   },
   {
    "duration": 11,
    "start_time": "2022-04-13T20:56:10.665Z"
   },
   {
    "duration": 10,
    "start_time": "2022-04-13T20:56:10.677Z"
   },
   {
    "duration": 6,
    "start_time": "2022-04-13T20:56:10.689Z"
   },
   {
    "duration": 10,
    "start_time": "2022-04-13T20:56:10.697Z"
   },
   {
    "duration": 20,
    "start_time": "2022-04-13T20:56:10.709Z"
   },
   {
    "duration": 3,
    "start_time": "2022-04-13T20:56:10.730Z"
   },
   {
    "duration": 6,
    "start_time": "2022-04-13T20:56:10.735Z"
   },
   {
    "duration": 9,
    "start_time": "2022-04-13T20:56:10.742Z"
   },
   {
    "duration": 5,
    "start_time": "2022-04-13T20:56:10.753Z"
   },
   {
    "duration": 11,
    "start_time": "2022-04-13T20:56:10.759Z"
   },
   {
    "duration": 6,
    "start_time": "2022-04-13T20:56:10.772Z"
   },
   {
    "duration": 11,
    "start_time": "2022-04-13T20:56:10.780Z"
   },
   {
    "duration": 32,
    "start_time": "2022-04-13T20:56:10.793Z"
   },
   {
    "duration": 4,
    "start_time": "2022-04-13T20:56:10.827Z"
   },
   {
    "duration": 6,
    "start_time": "2022-04-13T20:56:10.833Z"
   },
   {
    "duration": 95,
    "start_time": "2022-04-13T20:56:10.841Z"
   },
   {
    "duration": 0,
    "start_time": "2022-04-13T20:56:10.939Z"
   },
   {
    "duration": 0,
    "start_time": "2022-04-13T20:56:10.940Z"
   },
   {
    "duration": 0,
    "start_time": "2022-04-13T20:56:10.941Z"
   },
   {
    "duration": 0,
    "start_time": "2022-04-13T20:56:10.941Z"
   },
   {
    "duration": 0,
    "start_time": "2022-04-13T20:56:10.942Z"
   },
   {
    "duration": 0,
    "start_time": "2022-04-13T20:56:10.944Z"
   },
   {
    "duration": 0,
    "start_time": "2022-04-13T20:56:10.945Z"
   },
   {
    "duration": 0,
    "start_time": "2022-04-13T20:56:10.946Z"
   },
   {
    "duration": 0,
    "start_time": "2022-04-13T20:56:10.947Z"
   },
   {
    "duration": 0,
    "start_time": "2022-04-13T20:56:10.948Z"
   },
   {
    "duration": 0,
    "start_time": "2022-04-13T20:56:10.949Z"
   },
   {
    "duration": 0,
    "start_time": "2022-04-13T20:56:10.949Z"
   },
   {
    "duration": 0,
    "start_time": "2022-04-13T20:56:10.951Z"
   },
   {
    "duration": 0,
    "start_time": "2022-04-13T20:56:10.951Z"
   },
   {
    "duration": 0,
    "start_time": "2022-04-13T20:56:10.953Z"
   },
   {
    "duration": 0,
    "start_time": "2022-04-13T20:56:10.954Z"
   },
   {
    "duration": 0,
    "start_time": "2022-04-13T20:56:10.955Z"
   },
   {
    "duration": 0,
    "start_time": "2022-04-13T20:56:10.955Z"
   },
   {
    "duration": 0,
    "start_time": "2022-04-13T20:56:10.956Z"
   },
   {
    "duration": 0,
    "start_time": "2022-04-13T20:56:10.957Z"
   },
   {
    "duration": 0,
    "start_time": "2022-04-13T20:56:10.958Z"
   },
   {
    "duration": 0,
    "start_time": "2022-04-13T20:56:10.959Z"
   },
   {
    "duration": 0,
    "start_time": "2022-04-13T20:56:10.960Z"
   },
   {
    "duration": 0,
    "start_time": "2022-04-13T20:56:10.961Z"
   },
   {
    "duration": 0,
    "start_time": "2022-04-13T20:56:10.962Z"
   },
   {
    "duration": 0,
    "start_time": "2022-04-13T20:56:10.963Z"
   },
   {
    "duration": 0,
    "start_time": "2022-04-13T20:56:10.964Z"
   },
   {
    "duration": 0,
    "start_time": "2022-04-13T20:56:10.964Z"
   },
   {
    "duration": 0,
    "start_time": "2022-04-13T20:56:10.965Z"
   },
   {
    "duration": 0,
    "start_time": "2022-04-13T20:56:10.966Z"
   },
   {
    "duration": 0,
    "start_time": "2022-04-13T20:56:10.967Z"
   },
   {
    "duration": 0,
    "start_time": "2022-04-13T20:56:10.968Z"
   },
   {
    "duration": 0,
    "start_time": "2022-04-13T20:56:10.969Z"
   },
   {
    "duration": 0,
    "start_time": "2022-04-13T20:56:10.969Z"
   },
   {
    "duration": 0,
    "start_time": "2022-04-13T20:56:10.971Z"
   },
   {
    "duration": 0,
    "start_time": "2022-04-13T20:56:11.028Z"
   },
   {
    "duration": 1115,
    "start_time": "2022-04-13T20:56:23.909Z"
   },
   {
    "duration": 180,
    "start_time": "2022-04-13T20:56:25.026Z"
   },
   {
    "duration": 60,
    "start_time": "2022-04-13T20:56:25.208Z"
   },
   {
    "duration": 13,
    "start_time": "2022-04-13T20:56:25.270Z"
   },
   {
    "duration": 10,
    "start_time": "2022-04-13T20:56:25.285Z"
   },
   {
    "duration": 5,
    "start_time": "2022-04-13T20:56:25.297Z"
   },
   {
    "duration": 10,
    "start_time": "2022-04-13T20:56:25.304Z"
   },
   {
    "duration": 22,
    "start_time": "2022-04-13T20:56:25.316Z"
   },
   {
    "duration": 3,
    "start_time": "2022-04-13T20:56:25.340Z"
   },
   {
    "duration": 6,
    "start_time": "2022-04-13T20:56:25.346Z"
   },
   {
    "duration": 11,
    "start_time": "2022-04-13T20:56:25.354Z"
   },
   {
    "duration": 4,
    "start_time": "2022-04-13T20:56:25.368Z"
   },
   {
    "duration": 7,
    "start_time": "2022-04-13T20:56:25.374Z"
   },
   {
    "duration": 8,
    "start_time": "2022-04-13T20:56:25.384Z"
   },
   {
    "duration": 34,
    "start_time": "2022-04-13T20:56:25.393Z"
   },
   {
    "duration": 5,
    "start_time": "2022-04-13T20:56:25.429Z"
   },
   {
    "duration": 5,
    "start_time": "2022-04-13T20:56:25.435Z"
   },
   {
    "duration": 6,
    "start_time": "2022-04-13T20:56:25.442Z"
   },
   {
    "duration": 12,
    "start_time": "2022-04-13T20:56:25.449Z"
   },
   {
    "duration": 10,
    "start_time": "2022-04-13T20:56:25.463Z"
   },
   {
    "duration": 7,
    "start_time": "2022-04-13T20:56:25.474Z"
   },
   {
    "duration": 44,
    "start_time": "2022-04-13T20:56:25.482Z"
   },
   {
    "duration": 8,
    "start_time": "2022-04-13T20:56:25.528Z"
   },
   {
    "duration": 8,
    "start_time": "2022-04-13T20:56:25.537Z"
   },
   {
    "duration": 7,
    "start_time": "2022-04-13T20:56:25.546Z"
   },
   {
    "duration": 292,
    "start_time": "2022-04-13T20:56:25.554Z"
   },
   {
    "duration": 275,
    "start_time": "2022-04-13T20:56:25.848Z"
   },
   {
    "duration": 191,
    "start_time": "2022-04-13T20:56:26.127Z"
   },
   {
    "duration": 302,
    "start_time": "2022-04-13T20:56:26.323Z"
   },
   {
    "duration": 10,
    "start_time": "2022-04-13T20:56:26.627Z"
   },
   {
    "duration": 202,
    "start_time": "2022-04-13T20:56:26.639Z"
   },
   {
    "duration": 291,
    "start_time": "2022-04-13T20:56:26.843Z"
   },
   {
    "duration": 7,
    "start_time": "2022-04-13T20:56:27.136Z"
   },
   {
    "duration": 174,
    "start_time": "2022-04-13T20:56:27.145Z"
   },
   {
    "duration": 242,
    "start_time": "2022-04-13T20:56:27.324Z"
   },
   {
    "duration": 5,
    "start_time": "2022-04-13T20:56:27.568Z"
   },
   {
    "duration": 239,
    "start_time": "2022-04-13T20:56:27.575Z"
   },
   {
    "duration": 9,
    "start_time": "2022-04-13T20:56:27.816Z"
   },
   {
    "duration": 9,
    "start_time": "2022-04-13T20:56:27.827Z"
   },
   {
    "duration": 9,
    "start_time": "2022-04-13T20:56:27.837Z"
   },
   {
    "duration": 127,
    "start_time": "2022-04-13T20:56:27.847Z"
   },
   {
    "duration": 6,
    "start_time": "2022-04-13T20:56:27.975Z"
   },
   {
    "duration": 6,
    "start_time": "2022-04-13T20:56:27.983Z"
   },
   {
    "duration": 7,
    "start_time": "2022-04-13T20:56:27.990Z"
   },
   {
    "duration": 7,
    "start_time": "2022-04-13T20:56:27.998Z"
   },
   {
    "duration": 4,
    "start_time": "2022-04-13T20:56:28.023Z"
   },
   {
    "duration": 23,
    "start_time": "2022-04-13T20:56:28.028Z"
   },
   {
    "duration": 8,
    "start_time": "2022-04-13T20:56:28.053Z"
   },
   {
    "duration": 7,
    "start_time": "2022-04-13T20:56:28.062Z"
   },
   {
    "duration": 9,
    "start_time": "2022-04-13T20:56:28.070Z"
   },
   {
    "duration": 9,
    "start_time": "2022-04-13T20:56:28.081Z"
   },
   {
    "duration": 8,
    "start_time": "2022-04-13T20:56:28.125Z"
   },
   {
    "duration": 21,
    "start_time": "2022-04-13T20:56:28.134Z"
   },
   {
    "duration": 7,
    "start_time": "2022-04-13T20:56:28.156Z"
   },
   {
    "duration": 10,
    "start_time": "2022-04-13T20:56:28.165Z"
   },
   {
    "duration": 13,
    "start_time": "2022-04-13T20:56:58.149Z"
   }
  ],
  "kernelspec": {
   "display_name": "Python 3 (ipykernel)",
   "language": "python",
   "name": "python3"
  },
  "language_info": {
   "codemirror_mode": {
    "name": "ipython",
    "version": 3
   },
   "file_extension": ".py",
   "mimetype": "text/x-python",
   "name": "python",
   "nbconvert_exporter": "python",
   "pygments_lexer": "ipython3",
   "version": "3.9.7"
  },
  "toc": {
   "base_numbering": 1,
   "nav_menu": {},
   "number_sections": true,
   "sideBar": true,
   "skip_h1_title": false,
   "title_cell": "Table of Contents",
   "title_sidebar": "Contents",
   "toc_cell": false,
   "toc_position": {},
   "toc_section_display": true,
   "toc_window_display": true
  }
 },
 "nbformat": 4,
 "nbformat_minor": 5
}
